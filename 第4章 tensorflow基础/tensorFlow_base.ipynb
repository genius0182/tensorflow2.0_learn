{
 "cells": [
  {
   "cell_type": "code",
   "execution_count": 1,
   "metadata": {},
   "outputs": [],
   "source": [
    "import tensorflow as tf"
   ]
  },
  {
   "cell_type": "code",
   "execution_count": 2,
   "metadata": {},
   "outputs": [],
   "source": [
    "a = 1.2"
   ]
  },
  {
   "cell_type": "markdown",
   "metadata": {},
   "source": [
    "创建标量"
   ]
  },
  {
   "cell_type": "code",
   "execution_count": 3,
   "metadata": {},
   "outputs": [],
   "source": [
    "aa = tf.constant(1.2)"
   ]
  },
  {
   "cell_type": "code",
   "execution_count": 4,
   "metadata": {},
   "outputs": [
    {
     "data": {
      "text/plain": [
       "float"
      ]
     },
     "execution_count": 4,
     "metadata": {},
     "output_type": "execute_result"
    }
   ],
   "source": [
    "type(a)"
   ]
  },
  {
   "cell_type": "code",
   "execution_count": 5,
   "metadata": {},
   "outputs": [
    {
     "data": {
      "text/plain": [
       "tensorflow.python.framework.ops.EagerTensor"
      ]
     },
     "execution_count": 5,
     "metadata": {},
     "output_type": "execute_result"
    }
   ],
   "source": [
    "type(aa)"
   ]
  },
  {
   "cell_type": "code",
   "execution_count": 6,
   "metadata": {},
   "outputs": [
    {
     "data": {
      "text/plain": [
       "True"
      ]
     },
     "execution_count": 6,
     "metadata": {},
     "output_type": "execute_result"
    }
   ],
   "source": [
    "tf.is_tensor(aa)"
   ]
  },
  {
   "cell_type": "code",
   "execution_count": 7,
   "metadata": {},
   "outputs": [
    {
     "name": "stdout",
     "output_type": "stream",
     "text": [
      "tf.Tensor(1.2, shape=(), dtype=float32)\n"
     ]
    }
   ],
   "source": [
    "print(aa)"
   ]
  },
  {
   "cell_type": "code",
   "execution_count": 8,
   "metadata": {},
   "outputs": [],
   "source": [
    "x = tf.constant([1,2.,3.3])"
   ]
  },
  {
   "cell_type": "code",
   "execution_count": 9,
   "metadata": {},
   "outputs": [
    {
     "data": {
      "text/plain": [
       "<tf.Tensor: id=1, shape=(3,), dtype=float32, numpy=array([1. , 2. , 3.3], dtype=float32)>"
      ]
     },
     "execution_count": 9,
     "metadata": {},
     "output_type": "execute_result"
    }
   ],
   "source": [
    "x"
   ]
  },
  {
   "cell_type": "markdown",
   "metadata": {},
   "source": [
    "id 是 TensorFlow 中内部索引对象的编号， shape 表示张量的形状， dtype 表示张量的数\n",
    "值精度"
   ]
  },
  {
   "cell_type": "markdown",
   "metadata": {},
   "source": [
    "numpy()方法可以返回 Numpy.array 类型的数据"
   ]
  },
  {
   "cell_type": "code",
   "execution_count": 10,
   "metadata": {},
   "outputs": [
    {
     "data": {
      "text/plain": [
       "array([1. , 2. , 3.3], dtype=float32)"
      ]
     },
     "execution_count": 10,
     "metadata": {},
     "output_type": "execute_result"
    }
   ],
   "source": [
    "x.numpy()"
   ]
  },
  {
   "cell_type": "markdown",
   "metadata": {},
   "source": [
    "创建标量"
   ]
  },
  {
   "cell_type": "code",
   "execution_count": 11,
   "metadata": {},
   "outputs": [],
   "source": [
    "a = tf.constant([1.2])"
   ]
  },
  {
   "cell_type": "code",
   "execution_count": 12,
   "metadata": {},
   "outputs": [
    {
     "data": {
      "text/plain": [
       "(<tf.Tensor: id=2, shape=(1,), dtype=float32, numpy=array([1.2], dtype=float32)>,\n",
       " TensorShape([1]))"
      ]
     },
     "execution_count": 12,
     "metadata": {},
     "output_type": "execute_result"
    }
   ],
   "source": [
    "a, a.shape"
   ]
  },
  {
   "cell_type": "markdown",
   "metadata": {},
   "source": [
    "2个元素的向量"
   ]
  },
  {
   "cell_type": "code",
   "execution_count": 14,
   "metadata": {},
   "outputs": [],
   "source": [
    "a = tf.constant([1,2,3.])"
   ]
  },
  {
   "cell_type": "code",
   "execution_count": 15,
   "metadata": {},
   "outputs": [
    {
     "data": {
      "text/plain": [
       "(<tf.Tensor: id=3, shape=(3,), dtype=float32, numpy=array([1., 2., 3.], dtype=float32)>,\n",
       " TensorShape([3]))"
      ]
     },
     "execution_count": 15,
     "metadata": {},
     "output_type": "execute_result"
    }
   ],
   "source": [
    "a, a.shape"
   ]
  },
  {
   "cell_type": "markdown",
   "metadata": {},
   "source": [
    "定义矩阵"
   ]
  },
  {
   "cell_type": "code",
   "execution_count": 17,
   "metadata": {},
   "outputs": [],
   "source": [
    "a = tf.constant([[1,2],[3,4]])"
   ]
  },
  {
   "cell_type": "code",
   "execution_count": 18,
   "metadata": {},
   "outputs": [
    {
     "data": {
      "text/plain": [
       "(<tf.Tensor: id=4, shape=(2, 2), dtype=int32, numpy=\n",
       " array([[1, 2],\n",
       "        [3, 4]], dtype=int32)>, TensorShape([2, 2]))"
      ]
     },
     "execution_count": 18,
     "metadata": {},
     "output_type": "execute_result"
    }
   ],
   "source": [
    "a, a.shape"
   ]
  },
  {
   "cell_type": "markdown",
   "metadata": {},
   "source": [
    "3维张量"
   ]
  },
  {
   "cell_type": "code",
   "execution_count": 20,
   "metadata": {},
   "outputs": [],
   "source": [
    "a = tf.constant([[[1,2],[3,4]],[[5,6],[7,8]]])"
   ]
  },
  {
   "cell_type": "code",
   "execution_count": 21,
   "metadata": {},
   "outputs": [
    {
     "data": {
      "text/plain": [
       "(<tf.Tensor: id=5, shape=(2, 2, 2), dtype=int32, numpy=\n",
       " array([[[1, 2],\n",
       "         [3, 4]],\n",
       " \n",
       "        [[5, 6],\n",
       "         [7, 8]]], dtype=int32)>, TensorShape([2, 2, 2]))"
      ]
     },
     "execution_count": 21,
     "metadata": {},
     "output_type": "execute_result"
    }
   ],
   "source": [
    "a, a.shape"
   ]
  },
  {
   "cell_type": "markdown",
   "metadata": {},
   "source": [
    "字符串类型"
   ]
  },
  {
   "cell_type": "code",
   "execution_count": 22,
   "metadata": {},
   "outputs": [],
   "source": [
    "a = tf.constant('Hello World')"
   ]
  },
  {
   "cell_type": "code",
   "execution_count": 23,
   "metadata": {},
   "outputs": [
    {
     "data": {
      "text/plain": [
       "<tf.Tensor: id=6, shape=(), dtype=string, numpy=b'Hello World'>"
      ]
     },
     "execution_count": 23,
     "metadata": {},
     "output_type": "execute_result"
    }
   ],
   "source": [
    "a"
   ]
  },
  {
   "cell_type": "markdown",
   "metadata": {},
   "source": [
    "在 tf.strings 模块中，提供了常见的字符串型的工具函数，如拼接 join()，长度 length()，切\n",
    "分 split()等等"
   ]
  },
  {
   "cell_type": "code",
   "execution_count": 24,
   "metadata": {},
   "outputs": [
    {
     "data": {
      "text/plain": [
       "<tf.Tensor: id=7, shape=(), dtype=string, numpy=b'hello world'>"
      ]
     },
     "execution_count": 24,
     "metadata": {},
     "output_type": "execute_result"
    }
   ],
   "source": [
    "tf.strings.lower(a)"
   ]
  },
  {
   "cell_type": "markdown",
   "metadata": {},
   "source": [
    "布尔类型"
   ]
  },
  {
   "cell_type": "code",
   "execution_count": 26,
   "metadata": {},
   "outputs": [],
   "source": [
    "a = tf.constant(True)"
   ]
  },
  {
   "cell_type": "code",
   "execution_count": 27,
   "metadata": {},
   "outputs": [
    {
     "data": {
      "text/plain": [
       "<tf.Tensor: id=8, shape=(), dtype=bool, numpy=True>"
      ]
     },
     "execution_count": 27,
     "metadata": {},
     "output_type": "execute_result"
    }
   ],
   "source": [
    "a"
   ]
  },
  {
   "cell_type": "code",
   "execution_count": 28,
   "metadata": {},
   "outputs": [],
   "source": [
    "a = tf.constant([True,False])"
   ]
  },
  {
   "cell_type": "code",
   "execution_count": 29,
   "metadata": {},
   "outputs": [
    {
     "data": {
      "text/plain": [
       "<tf.Tensor: id=9, shape=(2,), dtype=bool, numpy=array([ True, False])>"
      ]
     },
     "execution_count": 29,
     "metadata": {},
     "output_type": "execute_result"
    }
   ],
   "source": [
    "a"
   ]
  },
  {
   "cell_type": "code",
   "execution_count": 34,
   "metadata": {},
   "outputs": [
    {
     "name": "stdout",
     "output_type": "stream",
     "text": [
      "success\n"
     ]
    }
   ],
   "source": [
    "a = tf.constant(True)\n",
    "if a == True:\n",
    "    print(\"success\")\n",
    "else:\n",
    "    print(\"false\")"
   ]
  },
  {
   "cell_type": "markdown",
   "metadata": {},
   "source": [
    "数值精度"
   ]
  },
  {
   "cell_type": "code",
   "execution_count": 35,
   "metadata": {},
   "outputs": [],
   "source": [
    "b = tf.constant(123456789, dtype=tf.int16)\n",
    "c = tf.constant(123456789, dtype=tf.int32)"
   ]
  },
  {
   "cell_type": "code",
   "execution_count": 36,
   "metadata": {},
   "outputs": [
    {
     "data": {
      "text/plain": [
       "(<tf.Tensor: id=21, shape=(), dtype=int16, numpy=-13035>,\n",
       " <tf.Tensor: id=22, shape=(), dtype=int32, numpy=123456789>)"
      ]
     },
     "execution_count": 36,
     "metadata": {},
     "output_type": "execute_result"
    }
   ],
   "source": [
    "b,c"
   ]
  },
  {
   "cell_type": "markdown",
   "metadata": {},
   "source": [
    "可以看到， 保存精度过低时，数据 123456789 发生了溢出， 得到了错误的结果"
   ]
  },
  {
   "cell_type": "code",
   "execution_count": 37,
   "metadata": {},
   "outputs": [
    {
     "data": {
      "text/plain": [
       "<tf.Tensor: id=23, shape=(), dtype=float32, numpy=3.1415927>"
      ]
     },
     "execution_count": 37,
     "metadata": {},
     "output_type": "execute_result"
    }
   ],
   "source": [
    "import numpy as np\n",
    "np.pi\n",
    "tf.constant(np.pi,dtype=tf.float32)"
   ]
  },
  {
   "cell_type": "code",
   "execution_count": 38,
   "metadata": {},
   "outputs": [
    {
     "data": {
      "text/plain": [
       "<tf.Tensor: id=24, shape=(), dtype=float64, numpy=3.141592653589793>"
      ]
     },
     "execution_count": 38,
     "metadata": {},
     "output_type": "execute_result"
    }
   ],
   "source": [
    "tf.constant(np.pi,dtype=tf.float64)"
   ]
  },
  {
   "cell_type": "markdown",
   "metadata": {},
   "source": [
    "读取精度"
   ]
  },
  {
   "cell_type": "code",
   "execution_count": 39,
   "metadata": {},
   "outputs": [
    {
     "name": "stdout",
     "output_type": "stream",
     "text": [
      "before: <dtype: 'bool'>\n"
     ]
    }
   ],
   "source": [
    "print('before:',a.dtype)"
   ]
  },
  {
   "cell_type": "markdown",
   "metadata": {},
   "source": [
    "类型转换"
   ]
  },
  {
   "cell_type": "code",
   "execution_count": 40,
   "metadata": {},
   "outputs": [],
   "source": [
    "a = tf.constant(np.pi, dtype=tf.float16)"
   ]
  },
  {
   "cell_type": "code",
   "execution_count": 41,
   "metadata": {},
   "outputs": [
    {
     "data": {
      "text/plain": [
       "<tf.Tensor: id=26, shape=(), dtype=float64, numpy=3.140625>"
      ]
     },
     "execution_count": 41,
     "metadata": {},
     "output_type": "execute_result"
    }
   ],
   "source": [
    "tf.cast(a,tf.double)"
   ]
  },
  {
   "cell_type": "markdown",
   "metadata": {},
   "source": [
    "将高精度张量转换为低精度张量，可能会发生数据溢出隐患"
   ]
  },
  {
   "cell_type": "code",
   "execution_count": 44,
   "metadata": {},
   "outputs": [
    {
     "data": {
      "text/plain": [
       "<tf.Tensor: id=29, shape=(), dtype=int16, numpy=-13035>"
      ]
     },
     "execution_count": 44,
     "metadata": {},
     "output_type": "execute_result"
    }
   ],
   "source": [
    "a = tf.constant(123456789, dtype=tf.int32)\n",
    "tf.cast(a,tf.int16)"
   ]
  },
  {
   "cell_type": "markdown",
   "metadata": {},
   "source": [
    "布尔型与整形之间相互转换也是合法的， 是比较常见的操作"
   ]
  },
  {
   "cell_type": "code",
   "execution_count": 46,
   "metadata": {},
   "outputs": [
    {
     "data": {
      "text/plain": [
       "<tf.Tensor: id=32, shape=(2,), dtype=int32, numpy=array([1, 0], dtype=int32)>"
      ]
     },
     "execution_count": 46,
     "metadata": {},
     "output_type": "execute_result"
    }
   ],
   "source": [
    "a = tf.constant([True,False])\n",
    "tf.cast(a,tf.int32)"
   ]
  },
  {
   "cell_type": "code",
   "execution_count": 47,
   "metadata": {},
   "outputs": [
    {
     "data": {
      "text/plain": [
       "<tf.Tensor: id=34, shape=(4,), dtype=bool, numpy=array([ True, False,  True,  True])>"
      ]
     },
     "execution_count": 47,
     "metadata": {},
     "output_type": "execute_result"
    }
   ],
   "source": [
    "a = tf.constant([-1,0,1,2])\n",
    "tf.cast(a,tf.bool)"
   ]
  },
  {
   "cell_type": "markdown",
   "metadata": {},
   "source": [
    "待优化张量"
   ]
  },
  {
   "cell_type": "code",
   "execution_count": 48,
   "metadata": {},
   "outputs": [
    {
     "data": {
      "text/plain": [
       "('Variable:0', True)"
      ]
     },
     "execution_count": 48,
     "metadata": {},
     "output_type": "execute_result"
    }
   ],
   "source": [
    "a = tf.constant([-1,0,1,2])\n",
    "aa = tf.Variable(a)\n",
    "aa.name,aa.trainable"
   ]
  },
  {
   "cell_type": "markdown",
   "metadata": {},
   "source": [
    "直接创建"
   ]
  },
  {
   "cell_type": "code",
   "execution_count": 50,
   "metadata": {},
   "outputs": [
    {
     "data": {
      "text/plain": [
       "<tf.Variable 'Variable:0' shape=(2, 2) dtype=int32, numpy=\n",
       "array([[1, 2],\n",
       "       [3, 4]], dtype=int32)>"
      ]
     },
     "execution_count": 50,
     "metadata": {},
     "output_type": "execute_result"
    }
   ],
   "source": [
    "a = tf.Variable([[1,2],[3,4]])\n",
    "a"
   ]
  },
  {
   "cell_type": "markdown",
   "metadata": {},
   "source": [
    "普通张量可以通过GradientTapt.watch()方法临时加入跟踪梯度信息的列表"
   ]
  },
  {
   "cell_type": "markdown",
   "metadata": {},
   "source": [
    "创建张量"
   ]
  },
  {
   "cell_type": "code",
   "execution_count": 52,
   "metadata": {},
   "outputs": [
    {
     "data": {
      "text/plain": [
       "<tf.Tensor: id=58, shape=(2,), dtype=float32, numpy=array([1., 2.], dtype=float32)>"
      ]
     },
     "execution_count": 52,
     "metadata": {},
     "output_type": "execute_result"
    }
   ],
   "source": [
    "tf.convert_to_tensor([1,2.])"
   ]
  },
  {
   "cell_type": "code",
   "execution_count": 53,
   "metadata": {},
   "outputs": [
    {
     "data": {
      "text/plain": [
       "<tf.Tensor: id=59, shape=(2, 2), dtype=float64, numpy=\n",
       "array([[1., 2.],\n",
       "       [3., 4.]])>"
      ]
     },
     "execution_count": 53,
     "metadata": {},
     "output_type": "execute_result"
    }
   ],
   "source": [
    "tf.convert_to_tensor(np.array([[1,2.],[3,4]]))"
   ]
  },
  {
   "cell_type": "markdown",
   "metadata": {},
   "source": [
    "创建全 0，全 1 张量"
   ]
  },
  {
   "cell_type": "code",
   "execution_count": 54,
   "metadata": {},
   "outputs": [
    {
     "data": {
      "text/plain": [
       "(<tf.Tensor: id=60, shape=(), dtype=float32, numpy=0.0>,\n",
       " <tf.Tensor: id=61, shape=(), dtype=float32, numpy=1.0>)"
      ]
     },
     "execution_count": 54,
     "metadata": {},
     "output_type": "execute_result"
    }
   ],
   "source": [
    "tf.zeros([]),tf.ones([])"
   ]
  },
  {
   "cell_type": "markdown",
   "metadata": {},
   "source": [
    "创建全 0 和全 1 的向量"
   ]
  },
  {
   "cell_type": "code",
   "execution_count": 55,
   "metadata": {},
   "outputs": [
    {
     "data": {
      "text/plain": [
       "(<tf.Tensor: id=64, shape=(1,), dtype=float32, numpy=array([0.], dtype=float32)>,\n",
       " <tf.Tensor: id=67, shape=(1,), dtype=float32, numpy=array([1.], dtype=float32)>)"
      ]
     },
     "execution_count": 55,
     "metadata": {},
     "output_type": "execute_result"
    }
   ],
   "source": [
    "tf.zeros([1]),tf.ones([1])"
   ]
  },
  {
   "cell_type": "markdown",
   "metadata": {},
   "source": [
    "创建全 0 的矩阵"
   ]
  },
  {
   "cell_type": "code",
   "execution_count": 57,
   "metadata": {},
   "outputs": [
    {
     "data": {
      "text/plain": [
       "<tf.Tensor: id=70, shape=(2, 2), dtype=float32, numpy=\n",
       "array([[0., 0.],\n",
       "       [0., 0.]], dtype=float32)>"
      ]
     },
     "execution_count": 57,
     "metadata": {},
     "output_type": "execute_result"
    }
   ],
   "source": [
    "tf.zeros([2,2])"
   ]
  },
  {
   "cell_type": "markdown",
   "metadata": {},
   "source": [
    "创建全 1 的矩阵"
   ]
  },
  {
   "cell_type": "code",
   "execution_count": 58,
   "metadata": {},
   "outputs": [
    {
     "data": {
      "text/plain": [
       "<tf.Tensor: id=73, shape=(3, 2), dtype=float32, numpy=\n",
       "array([[1., 1.],\n",
       "       [1., 1.],\n",
       "       [1., 1.]], dtype=float32)>"
      ]
     },
     "execution_count": 58,
     "metadata": {},
     "output_type": "execute_result"
    }
   ],
   "source": [
    "tf.ones([3,2])"
   ]
  },
  {
   "cell_type": "markdown",
   "metadata": {},
   "source": [
    "创建与张量 a 形状一样的全 0 张量"
   ]
  },
  {
   "cell_type": "code",
   "execution_count": 60,
   "metadata": {},
   "outputs": [
    {
     "data": {
      "text/plain": [
       "<tf.Tensor: id=81, shape=(2, 3), dtype=float32, numpy=\n",
       "array([[0., 0., 0.],\n",
       "       [0., 0., 0.]], dtype=float32)>"
      ]
     },
     "execution_count": 60,
     "metadata": {},
     "output_type": "execute_result"
    }
   ],
   "source": [
    "a = tf.ones([2,3])\n",
    "tf.zeros_like(a)"
   ]
  },
  {
   "cell_type": "markdown",
   "metadata": {},
   "source": [
    "创建与张量 a 形状一样的全 1 张量"
   ]
  },
  {
   "cell_type": "code",
   "execution_count": 61,
   "metadata": {},
   "outputs": [
    {
     "data": {
      "text/plain": [
       "<tf.Tensor: id=87, shape=(3, 2), dtype=float32, numpy=\n",
       "array([[1., 1.],\n",
       "       [1., 1.],\n",
       "       [1., 1.]], dtype=float32)>"
      ]
     },
     "execution_count": 61,
     "metadata": {},
     "output_type": "execute_result"
    }
   ],
   "source": [
    "a = tf.zeros([3,2])\n",
    "tf.ones_like(a)"
   ]
  },
  {
   "cell_type": "markdown",
   "metadata": {},
   "source": [
    "创建自定义数值张量"
   ]
  },
  {
   "cell_type": "code",
   "execution_count": 62,
   "metadata": {},
   "outputs": [
    {
     "data": {
      "text/plain": [
       "<tf.Tensor: id=90, shape=(), dtype=int32, numpy=-1>"
      ]
     },
     "execution_count": 62,
     "metadata": {},
     "output_type": "execute_result"
    }
   ],
   "source": [
    "tf.fill([],-1)"
   ]
  },
  {
   "cell_type": "markdown",
   "metadata": {},
   "source": [
    "创建所有元素为-1 的向量"
   ]
  },
  {
   "cell_type": "code",
   "execution_count": 63,
   "metadata": {},
   "outputs": [
    {
     "data": {
      "text/plain": [
       "<tf.Tensor: id=93, shape=(1,), dtype=int32, numpy=array([-1], dtype=int32)>"
      ]
     },
     "execution_count": 63,
     "metadata": {},
     "output_type": "execute_result"
    }
   ],
   "source": [
    "tf.fill([1],-1)"
   ]
  },
  {
   "cell_type": "markdown",
   "metadata": {},
   "source": [
    "创建所有元素为 99 的矩阵："
   ]
  },
  {
   "cell_type": "code",
   "execution_count": 64,
   "metadata": {},
   "outputs": [
    {
     "data": {
      "text/plain": [
       "<tf.Tensor: id=96, shape=(2, 2), dtype=int32, numpy=\n",
       "array([[99, 99],\n",
       "       [99, 99]], dtype=int32)>"
      ]
     },
     "execution_count": 64,
     "metadata": {},
     "output_type": "execute_result"
    }
   ],
   "source": [
    "tf.fill([2,2],99)"
   ]
  },
  {
   "cell_type": "markdown",
   "metadata": {},
   "source": [
    "创建已知分布的张量"
   ]
  },
  {
   "cell_type": "markdown",
   "metadata": {},
   "source": [
    "1.创建均值为0,标准差为1的正态分布"
   ]
  },
  {
   "cell_type": "code",
   "execution_count": 65,
   "metadata": {},
   "outputs": [
    {
     "data": {
      "text/plain": [
       "<tf.Tensor: id=102, shape=(2, 2), dtype=float32, numpy=\n",
       "array([[-0.571839  ,  1.2976298 ],\n",
       "       [ 0.21529754,  0.9921046 ]], dtype=float32)>"
      ]
     },
     "execution_count": 65,
     "metadata": {},
     "output_type": "execute_result"
    }
   ],
   "source": [
    "tf.random.normal([2,2])"
   ]
  },
  {
   "cell_type": "markdown",
   "metadata": {},
   "source": [
    "创建均值为 1，标准差为 2 的正态分布"
   ]
  },
  {
   "cell_type": "code",
   "execution_count": 68,
   "metadata": {},
   "outputs": [
    {
     "data": {
      "text/plain": [
       "<tf.Tensor: id=114, shape=(2, 2), dtype=float32, numpy=\n",
       "array([[ 0.32448035,  4.2583556 ],\n",
       "       [-2.2416139 ,  3.8627129 ]], dtype=float32)>"
      ]
     },
     "execution_count": 68,
     "metadata": {},
     "output_type": "execute_result"
    }
   ],
   "source": [
    "tf.random.normal([2,2],mean=1,stddev=2)"
   ]
  },
  {
   "cell_type": "markdown",
   "metadata": {},
   "source": [
    "2.创建均匀分布"
   ]
  },
  {
   "cell_type": "code",
   "execution_count": 69,
   "metadata": {},
   "outputs": [
    {
     "data": {
      "text/plain": [
       "<tf.Tensor: id=121, shape=(2, 2), dtype=float32, numpy=\n",
       "array([[0.21537483, 0.8658372 ],\n",
       "       [0.80189025, 0.7823967 ]], dtype=float32)>"
      ]
     },
     "execution_count": 69,
     "metadata": {},
     "output_type": "execute_result"
    }
   ],
   "source": [
    "tf.random.uniform([2,2])"
   ]
  },
  {
   "cell_type": "markdown",
   "metadata": {},
   "source": [
    "创建采样自区间[0,10]， shape 为[2,2]的矩阵"
   ]
  },
  {
   "cell_type": "code",
   "execution_count": 70,
   "metadata": {},
   "outputs": [
    {
     "data": {
      "text/plain": [
       "<tf.Tensor: id=128, shape=(2, 2), dtype=float32, numpy=\n",
       "array([[3.4099603, 2.384913 ],\n",
       "       [8.664813 , 2.4867702]], dtype=float32)>"
      ]
     },
     "execution_count": 70,
     "metadata": {},
     "output_type": "execute_result"
    }
   ],
   "source": [
    "tf.random.uniform([2,2],maxval=10)"
   ]
  },
  {
   "cell_type": "markdown",
   "metadata": {},
   "source": [
    "如果需要均匀采样整形类型的数据，必须指定采样区间的最大值 maxval 参数，同时制定数\n",
    "据类型为 tf.int*型"
   ]
  },
  {
   "cell_type": "code",
   "execution_count": 72,
   "metadata": {},
   "outputs": [
    {
     "data": {
      "text/plain": [
       "<tf.Tensor: id=136, shape=(2, 2), dtype=int32, numpy=\n",
       "array([[49, 50],\n",
       "       [32, 69]], dtype=int32)>"
      ]
     },
     "execution_count": 72,
     "metadata": {},
     "output_type": "execute_result"
    }
   ],
   "source": [
    "tf.random.uniform([2,2],maxval=100,dtype=tf.int32)"
   ]
  },
  {
   "cell_type": "markdown",
   "metadata": {},
   "source": [
    "创建序列"
   ]
  },
  {
   "cell_type": "code",
   "execution_count": 73,
   "metadata": {},
   "outputs": [
    {
     "data": {
      "text/plain": [
       "<tf.Tensor: id=140, shape=(10,), dtype=int32, numpy=array([0, 1, 2, 3, 4, 5, 6, 7, 8, 9], dtype=int32)>"
      ]
     },
     "execution_count": 73,
     "metadata": {},
     "output_type": "execute_result"
    }
   ],
   "source": [
    "tf.range(10)"
   ]
  },
  {
   "cell_type": "markdown",
   "metadata": {},
   "source": [
    "创建 0~9，步长为 2 的整形序列"
   ]
  },
  {
   "cell_type": "code",
   "execution_count": 74,
   "metadata": {},
   "outputs": [
    {
     "data": {
      "text/plain": [
       "<tf.Tensor: id=144, shape=(5,), dtype=int32, numpy=array([0, 2, 4, 6, 8], dtype=int32)>"
      ]
     },
     "execution_count": 74,
     "metadata": {},
     "output_type": "execute_result"
    }
   ],
   "source": [
    "tf.range(10,delta=2)"
   ]
  },
  {
   "cell_type": "code",
   "execution_count": 75,
   "metadata": {},
   "outputs": [
    {
     "data": {
      "text/plain": [
       "<tf.Tensor: id=148, shape=(5,), dtype=int32, numpy=array([1, 3, 5, 7, 9], dtype=int32)>"
      ]
     },
     "execution_count": 75,
     "metadata": {},
     "output_type": "execute_result"
    }
   ],
   "source": [
    "tf.range(1,10,delta=2)"
   ]
  },
  {
   "cell_type": "markdown",
   "metadata": {},
   "source": [
    "标量应用"
   ]
  },
  {
   "cell_type": "code",
   "execution_count": 76,
   "metadata": {},
   "outputs": [
    {
     "name": "stdout",
     "output_type": "stream",
     "text": [
      "tf.Tensor(0.3248353, shape=(), dtype=float32)\n"
     ]
    }
   ],
   "source": [
    "out = tf.random.uniform([4,10]) #随机模拟网络输出\n",
    "y = tf.constant([2,3,2,0]) #随机构造样本真实标签\n",
    "y = tf.one_hot(y,depth=10) #one hot 编码\n",
    "loss = tf.keras.losses.mse(y,out) #计算每个样本的MSE\n",
    "loss = tf.reduce_mean(loss) #平均MSE\n",
    "print(loss)"
   ]
  },
  {
   "cell_type": "markdown",
   "metadata": {},
   "source": [
    "向量"
   ]
  },
  {
   "cell_type": "code",
   "execution_count": 2,
   "metadata": {},
   "outputs": [],
   "source": [
    "z = tf.random.normal([4,2]) #z=wx,模拟获得激活函数的输入 z"
   ]
  },
  {
   "cell_type": "code",
   "execution_count": 3,
   "metadata": {},
   "outputs": [],
   "source": [
    "b = tf.zeros([2]) #模拟偏置向量"
   ]
  },
  {
   "cell_type": "code",
   "execution_count": 5,
   "metadata": {},
   "outputs": [
    {
     "data": {
      "text/plain": [
       "<tf.Tensor: id=10, shape=(4, 2), dtype=float32, numpy=\n",
       "array([[ 0.15070744,  0.3171254 ],\n",
       "       [ 1.250352  , -1.0780892 ],\n",
       "       [ 0.88869125, -0.5843592 ],\n",
       "       [-1.3788879 , -0.76072395]], dtype=float32)>"
      ]
     },
     "execution_count": 5,
     "metadata": {},
     "output_type": "execute_result"
    }
   ],
   "source": [
    "z = z + b  #累加偏置\n",
    "z"
   ]
  },
  {
   "cell_type": "code",
   "execution_count": 9,
   "metadata": {},
   "outputs": [
    {
     "data": {
      "text/plain": [
       "<tf.Variable 'bias:0' shape=(3,) dtype=float32, numpy=array([0., 0., 0.], dtype=float32)>"
      ]
     },
     "execution_count": 9,
     "metadata": {},
     "output_type": "execute_result"
    }
   ],
   "source": [
    "fc = tf.keras.layers.Dense(3) # 创建一层 Wx+b，输出节点为 3\n",
    "fc.build(input_shape=(2,4)) # 通过 build 函数创建 W,b 张量，输入节点为 4\n",
    "fc.bias  # 查看偏置"
   ]
  },
  {
   "cell_type": "markdown",
   "metadata": {},
   "source": [
    "矩阵"
   ]
  },
  {
   "cell_type": "code",
   "execution_count": 10,
   "metadata": {},
   "outputs": [
    {
     "data": {
      "text/plain": [
       "<tf.Tensor: id=49, shape=(2, 3), dtype=float32, numpy=\n",
       "array([[-1.2177361 , -1.2177361 , -1.2177361 ],\n",
       "       [ 0.24091548,  0.24091548,  0.24091548]], dtype=float32)>"
      ]
     },
     "execution_count": 10,
     "metadata": {},
     "output_type": "execute_result"
    }
   ],
   "source": [
    "x = tf.random.normal([2,4])\n",
    "w = tf.ones([4,3]) # 定义 W 张量\n",
    "b = tf.zeros([3])  # 定义 b 张量\n",
    "o = x@w+b   # X@W+b 运算\n",
    "o"
   ]
  },
  {
   "cell_type": "code",
   "execution_count": 11,
   "metadata": {},
   "outputs": [
    {
     "data": {
      "text/plain": [
       "<tf.Variable 'kernel:0' shape=(4, 3) dtype=float32, numpy=\n",
       "array([[-0.01358432,  0.4953959 , -0.11235762],\n",
       "       [ 0.5869466 ,  0.23385525,  0.6524718 ],\n",
       "       [-0.371781  , -0.4754243 , -0.79318976],\n",
       "       [-0.4303162 ,  0.19100201, -0.07961386]], dtype=float32)>"
      ]
     },
     "execution_count": 11,
     "metadata": {},
     "output_type": "execute_result"
    }
   ],
   "source": [
    "fc = tf.keras.layers.Dense(3) # 创建一层 Wx+b，输出节点为 3\n",
    "fc.build(input_shape=(2,4)) # 通过 build 函数创建 W,b 张量，输入节点为 4\n",
    "fc.kernel"
   ]
  },
  {
   "cell_type": "markdown",
   "metadata": {},
   "source": [
    "索引与切片"
   ]
  },
  {
   "cell_type": "code",
   "execution_count": 12,
   "metadata": {},
   "outputs": [],
   "source": [
    "# 创建 32x32 的彩色图片输入，个数为 4\n",
    "x = tf.random.normal([4,32,32,3])"
   ]
  },
  {
   "cell_type": "markdown",
   "metadata": {},
   "source": [
    "取第 3 张图片，第 2 行，第 1 列的像素， B 通道(第 2 个通道)颜色强度值："
   ]
  },
  {
   "cell_type": "code",
   "execution_count": 14,
   "metadata": {},
   "outputs": [
    {
     "data": {
      "text/plain": [
       "<tf.Tensor: id=87, shape=(), dtype=float32, numpy=1.1600045>"
      ]
     },
     "execution_count": 14,
     "metadata": {},
     "output_type": "execute_result"
    }
   ],
   "source": [
    "x[2,1,0,1]"
   ]
  },
  {
   "cell_type": "markdown",
   "metadata": {},
   "source": [
    "切片"
   ]
  },
  {
   "cell_type": "markdown",
   "metadata": {},
   "source": [
    "读取第 2,3 张图片"
   ]
  },
  {
   "cell_type": "code",
   "execution_count": 15,
   "metadata": {},
   "outputs": [
    {
     "data": {
      "text/plain": [
       "<tf.Tensor: id=91, shape=(2, 32, 32, 3), dtype=float32, numpy=\n",
       "array([[[[ 3.9608958e-01,  1.1666833e+00, -9.5961040e-01],\n",
       "         [ 7.5062625e-02, -1.6343539e+00, -6.5661925e-01],\n",
       "         [ 8.2059348e-01, -4.9437222e-01,  1.9591441e-02],\n",
       "         ...,\n",
       "         [-1.3620663e+00, -1.0308050e+00,  9.7981751e-01],\n",
       "         [-4.6695253e-01, -3.3674836e-01,  1.1081425e+00],\n",
       "         [ 9.1062981e-01,  1.3964354e+00,  2.4595003e-01]],\n",
       "\n",
       "        [[-3.6236784e-01,  9.3415696e-03,  9.7871274e-01],\n",
       "         [ 1.5890433e+00, -2.0541415e+00,  7.7621257e-01],\n",
       "         [-6.1750573e-01, -7.4248952e-01, -2.6333258e+00],\n",
       "         ...,\n",
       "         [ 9.5234823e-01, -9.3141317e-01, -3.1923255e-01],\n",
       "         [-1.8288110e+00, -9.7536363e-02,  2.7277274e+00],\n",
       "         [-1.0575179e+00, -1.5638824e+00,  3.4658501e-01]],\n",
       "\n",
       "        [[-9.6560717e-01, -9.9528837e-01,  2.4339932e-01],\n",
       "         [ 4.5681235e-01,  2.5524205e-01, -1.1690129e+00],\n",
       "         [-1.0564183e+00, -3.7195179e-01, -7.9225731e-01],\n",
       "         ...,\n",
       "         [-5.8850590e-02,  2.1774392e+00, -2.6204684e-01],\n",
       "         [ 2.7196318e-01, -4.5816302e-01, -1.1768178e+00],\n",
       "         [-1.1604580e+00,  2.6287694e+00, -2.4011278e-01]],\n",
       "\n",
       "        ...,\n",
       "\n",
       "        [[-1.0876983e+00, -1.3133463e+00, -8.9132178e-01],\n",
       "         [ 2.0495369e+00,  7.2894281e-01,  1.0753312e+00],\n",
       "         [ 3.2436794e-01,  1.2753161e+00,  1.2331444e-01],\n",
       "         ...,\n",
       "         [ 2.3606947e-01,  1.8101643e+00, -4.0795612e-01],\n",
       "         [ 6.5669674e-01, -1.0182208e+00,  5.8309811e-01],\n",
       "         [ 1.1236498e+00, -1.4375114e+00, -5.9489340e-01]],\n",
       "\n",
       "        [[-1.9728035e+00, -8.3968185e-02,  5.8704937e-01],\n",
       "         [ 3.5729010e-02, -9.6315497e-01,  2.8903502e-01],\n",
       "         [-2.6761549e-02, -1.5079099e+00, -2.9798400e-01],\n",
       "         ...,\n",
       "         [-3.2384896e-01,  1.1374649e+00, -1.0263476e+00],\n",
       "         [ 8.1457794e-02,  1.8001295e+00,  1.8775302e+00],\n",
       "         [-2.7510291e-01,  3.4545249e-01, -1.1895188e+00]],\n",
       "\n",
       "        [[ 6.1718598e-03, -2.0117588e+00,  1.0901506e+00],\n",
       "         [ 1.1703391e+00,  8.0119586e-01, -2.4485204e+00],\n",
       "         [ 7.4487388e-01,  9.1266501e-01,  2.8400578e-02],\n",
       "         ...,\n",
       "         [-4.4262692e-01,  5.0656223e-01,  4.7818807e-01],\n",
       "         [ 3.4581953e-01,  3.9246476e+00,  1.9792886e-03],\n",
       "         [-6.8565959e-01, -1.2946869e+00, -5.9499401e-01]]],\n",
       "\n",
       "\n",
       "       [[[ 2.0424412e-01, -1.7021016e+00,  8.8178700e-01],\n",
       "         [-1.6635194e+00,  1.0654024e+00,  4.7007272e-01],\n",
       "         [ 2.1981246e+00,  3.9844236e-01, -1.2352054e+00],\n",
       "         ...,\n",
       "         [ 2.7623856e-01,  6.2766147e-01,  1.4127252e-01],\n",
       "         [ 2.7496603e-01,  8.8159479e-02, -5.2837908e-02],\n",
       "         [-1.2050815e-01,  7.4041563e-01,  1.2698107e+00]],\n",
       "\n",
       "        [[ 8.3046305e-01,  1.1600045e+00, -1.9099167e-01],\n",
       "         [-1.4925040e+00,  1.5363087e-01,  7.0929921e-01],\n",
       "         [-7.3501837e-01,  1.6368463e+00, -1.1031362e+00],\n",
       "         ...,\n",
       "         [ 2.0376791e-01, -3.8218567e-01,  2.7088529e-01],\n",
       "         [-6.1467117e-01, -7.7595752e-01,  1.2528511e+00],\n",
       "         [ 1.1135702e+00, -3.5156801e-01,  1.7376661e+00]],\n",
       "\n",
       "        [[ 9.1269928e-01,  1.1835852e-01,  3.0264527e-02],\n",
       "         [-2.6480455e+00,  7.2083913e-02, -1.7984705e-01],\n",
       "         [-5.8911800e-01,  1.4978727e+00,  8.5785121e-01],\n",
       "         ...,\n",
       "         [-4.9747053e-01,  2.0446165e-01, -1.4248439e+00],\n",
       "         [ 1.0424030e+00, -1.8768002e+00, -3.8784772e-01],\n",
       "         [-1.3005243e-01,  1.8911585e+00, -2.8480479e-01]],\n",
       "\n",
       "        ...,\n",
       "\n",
       "        [[-9.5514733e-01, -3.3843580e-01,  6.6202450e-01],\n",
       "         [-3.5705793e-01, -1.1154723e+00, -4.5876583e-01],\n",
       "         [ 2.1513164e-01,  5.6870055e-01, -1.2559550e+00],\n",
       "         ...,\n",
       "         [-4.1056550e-01,  6.5026127e-02,  1.0844262e+00],\n",
       "         [-6.5526563e-01, -2.6600745e-01,  5.2002317e-01],\n",
       "         [-3.4414178e-01, -7.2786838e-01,  1.5866747e-01]],\n",
       "\n",
       "        [[ 1.2232282e+00, -1.7705283e+00,  1.8959317e+00],\n",
       "         [-7.8259565e-02, -6.6414344e-01,  4.6594390e-01],\n",
       "         [-7.7130097e-01, -1.0036510e-01,  6.1635647e-02],\n",
       "         ...,\n",
       "         [ 6.7225438e-01,  9.3934309e-01,  8.7707603e-01],\n",
       "         [-1.5302266e+00,  1.1280035e-01, -1.1470281e+00],\n",
       "         [-4.9418077e-02,  3.2429647e-01, -1.0203915e+00]],\n",
       "\n",
       "        [[-8.6240751e-01,  1.2710241e+00, -2.5221208e-01],\n",
       "         [ 7.4794555e-01, -1.4424138e+00, -1.0993050e+00],\n",
       "         [ 8.8433307e-01, -8.3133526e-02,  1.7887666e+00],\n",
       "         ...,\n",
       "         [-1.4906961e+00,  1.7373608e-01,  2.7762578e+00],\n",
       "         [-1.6474054e+00, -1.9098657e-01,  3.4790260e-01],\n",
       "         [-4.6512198e-02, -1.4941343e+00,  5.8226365e-01]]]],\n",
       "      dtype=float32)>"
      ]
     },
     "execution_count": 15,
     "metadata": {},
     "output_type": "execute_result"
    }
   ],
   "source": [
    "x[1:3]"
   ]
  },
  {
   "cell_type": "markdown",
   "metadata": {},
   "source": [
    "start: end: step切片方式有很多简写方式，其中 start、 end、 step 3 个参数可以根据需要\n",
    "选择性地省略， 全部省略时即::， 表示从最开始读取到最末尾，步长为 1，即不跳过任何元\n",
    "素。 如 x[0,::]表示读取第 1 张图片的所有行， 其中::表示在行维度上读取所有行，它等于\n",
    "x[0]的写法："
   ]
  },
  {
   "cell_type": "code",
   "execution_count": 16,
   "metadata": {},
   "outputs": [
    {
     "data": {
      "text/plain": [
       "<tf.Tensor: id=95, shape=(32, 32, 3), dtype=float32, numpy=\n",
       "array([[[ 0.26458853,  0.6862444 , -1.5623252 ],\n",
       "        [-0.87364644, -1.0548266 ,  2.1718805 ],\n",
       "        [ 0.07239671, -1.5428709 ,  0.60088605],\n",
       "        ...,\n",
       "        [-2.584377  ,  0.25847468, -2.1008103 ],\n",
       "        [-0.5777474 ,  0.24534662,  0.63605446],\n",
       "        [-1.4661803 , -0.02201184,  1.1565276 ]],\n",
       "\n",
       "       [[-0.8461384 ,  1.0477241 , -0.91011983],\n",
       "        [ 0.57177323, -0.6644301 , -0.00612693],\n",
       "        [ 1.4064115 , -0.0878811 , -0.45680508],\n",
       "        ...,\n",
       "        [-0.11536597,  0.5707641 , -0.72139716],\n",
       "        [-0.5091206 , -0.57347465,  0.6009836 ],\n",
       "        [ 0.5171234 , -0.58001757,  0.83449274]],\n",
       "\n",
       "       [[-1.1543097 ,  0.6921324 , -0.10571495],\n",
       "        [ 0.04353014, -3.6674335 , -0.8843712 ],\n",
       "        [-1.2045063 ,  0.05437936, -0.58556515],\n",
       "        ...,\n",
       "        [ 0.40672207,  0.13439499,  0.35402346],\n",
       "        [ 0.8968141 , -1.274659  , -1.6582727 ],\n",
       "        [ 0.16549163,  1.3120817 , -1.1174604 ]],\n",
       "\n",
       "       ...,\n",
       "\n",
       "       [[-0.2612772 ,  2.2168043 , -0.24639326],\n",
       "        [ 0.6767074 ,  0.5399218 ,  1.5977486 ],\n",
       "        [-0.5228515 ,  0.22085658, -0.2883635 ],\n",
       "        ...,\n",
       "        [ 1.3872967 ,  0.37581396, -0.5124828 ],\n",
       "        [-0.0923908 , -0.74409777, -0.9253322 ],\n",
       "        [-1.6014411 ,  0.5935741 ,  0.10612757]],\n",
       "\n",
       "       [[-0.15605152,  0.66274077,  0.29706907],\n",
       "        [ 2.2159932 , -0.11082805,  1.0966947 ],\n",
       "        [-0.737334  , -0.01208094,  1.1469544 ],\n",
       "        ...,\n",
       "        [ 0.43619925,  0.09597457,  0.33670107],\n",
       "        [-0.08580828,  0.8477911 , -0.26906735],\n",
       "        [ 0.17721045, -1.5771691 ,  0.77370906]],\n",
       "\n",
       "       [[ 0.20301628, -0.3589184 , -0.57871747],\n",
       "        [ 0.9353171 ,  0.91975135, -0.28741238],\n",
       "        [ 1.08614   ,  0.02117164,  0.75443035],\n",
       "        ...,\n",
       "        [-2.0308805 ,  0.25222784,  0.78565854],\n",
       "        [ 0.7575713 , -1.5934756 ,  1.6079992 ],\n",
       "        [-1.2605264 , -0.29477927,  0.330191  ]]], dtype=float32)>"
      ]
     },
     "execution_count": 16,
     "metadata": {},
     "output_type": "execute_result"
    }
   ],
   "source": [
    "x[0,::]"
   ]
  },
  {
   "cell_type": "markdown",
   "metadata": {},
   "source": [
    "为了更加简洁， ::可以简写为单个冒号:，"
   ]
  },
  {
   "cell_type": "code",
   "execution_count": 17,
   "metadata": {},
   "outputs": [
    {
     "data": {
      "text/plain": [
       "<tf.Tensor: id=99, shape=(4, 14, 14, 3), dtype=float32, numpy=\n",
       "array([[[[ 2.64588535e-01,  6.86244428e-01, -1.56232524e+00],\n",
       "         [ 7.23967105e-02, -1.54287088e+00,  6.00886047e-01],\n",
       "         [-1.83958024e-01,  1.48256886e+00,  6.64869428e-01],\n",
       "         ...,\n",
       "         [ 7.64228404e-01,  9.21247482e-01, -8.35385621e-01],\n",
       "         [-1.33977401e+00,  1.13132465e+00,  1.65383115e-01],\n",
       "         [ 9.22469199e-01,  2.36471117e-01,  3.03110051e+00]],\n",
       "\n",
       "        [[-1.15430975e+00,  6.92132413e-01, -1.05714947e-01],\n",
       "         [-1.20450628e+00,  5.43793552e-02, -5.85565150e-01],\n",
       "         [-1.32450485e+00,  2.10647389e-01, -1.12691712e+00],\n",
       "         ...,\n",
       "         [-9.39074516e-01, -2.61862546e-01, -2.20228410e+00],\n",
       "         [ 2.09112525e+00, -1.53537703e+00, -1.56233692e+00],\n",
       "         [ 1.66733611e+00, -3.89993489e-01, -1.73464763e+00]],\n",
       "\n",
       "        [[ 2.88183302e-01,  1.61201194e-01, -2.22069383e-01],\n",
       "         [-3.60703111e-01, -1.10041904e+00, -1.01736939e+00],\n",
       "         [ 5.69621734e-02, -1.55792272e+00, -7.69863248e-01],\n",
       "         ...,\n",
       "         [ 7.35234082e-01,  7.09705055e-02, -9.93247271e-01],\n",
       "         [ 5.93158342e-02,  1.20429821e-01, -1.20624912e+00],\n",
       "         [-6.12969756e-01, -7.74342060e-01, -1.13003589e-01]],\n",
       "\n",
       "        ...,\n",
       "\n",
       "        [[ 3.42043601e-02,  1.70831120e+00, -6.37504935e-01],\n",
       "         [ 5.56313813e-01,  3.37933779e-01,  8.23516428e-01],\n",
       "         [ 9.35016572e-01,  2.01532483e+00, -3.39583665e-01],\n",
       "         ...,\n",
       "         [ 6.70666024e-02, -8.72031689e-01, -3.03998906e-02],\n",
       "         [-8.11551332e-01, -1.50103450e+00, -3.36955547e-01],\n",
       "         [ 5.63192964e-01, -1.70451820e+00, -3.60602438e-01]],\n",
       "\n",
       "        [[-6.57466412e-01, -1.35890627e+00,  7.45856643e-01],\n",
       "         [-1.04285049e+00,  8.03912938e-01,  3.76176059e-01],\n",
       "         [ 4.72345889e-01,  8.13305199e-01, -5.16790688e-01],\n",
       "         ...,\n",
       "         [-1.73233676e+00, -8.73703122e-01, -5.66982150e-01],\n",
       "         [ 1.05676818e+00, -1.47121179e+00,  2.26168692e-01],\n",
       "         [ 1.35164714e+00,  5.72334588e-01, -2.27691841e+00]],\n",
       "\n",
       "        [[-5.88603675e-01,  8.50820243e-01,  4.05234575e-01],\n",
       "         [-9.50554013e-02, -5.17421842e-01,  7.86085278e-02],\n",
       "         [-1.26516894e-01, -1.55269539e+00,  2.48013496e+00],\n",
       "         ...,\n",
       "         [ 2.07352948e+00,  1.00242639e+00, -2.63969392e-01],\n",
       "         [ 4.51762468e-01, -3.38321000e-01,  2.00782585e+00],\n",
       "         [-3.03807437e-01, -1.83119878e-01, -9.67023134e-01]]],\n",
       "\n",
       "\n",
       "       [[[ 3.96089584e-01,  1.16668332e+00, -9.59610403e-01],\n",
       "         [ 8.20593476e-01, -4.94372219e-01,  1.95914414e-02],\n",
       "         [-5.50591052e-01,  9.87960100e-01,  8.41353983e-02],\n",
       "         ...,\n",
       "         [-1.28336281e-01,  5.41361928e-01,  7.46356025e-02],\n",
       "         [ 4.10343826e-01,  3.10243636e-01, -5.99029124e-01],\n",
       "         [ 4.55713391e-01, -1.81217670e-01, -4.17006880e-01]],\n",
       "\n",
       "        [[-9.65607166e-01, -9.95288372e-01,  2.43399322e-01],\n",
       "         [-1.05641830e+00, -3.71951789e-01, -7.92257309e-01],\n",
       "         [ 1.95785537e-01, -8.88227820e-01,  6.53893501e-02],\n",
       "         ...,\n",
       "         [ 8.93855933e-03, -1.84133470e+00,  5.28990328e-01],\n",
       "         [-1.04622102e+00, -8.31934690e-01, -3.64787072e-01],\n",
       "         [ 6.83351099e-01,  1.06280339e+00, -5.68502724e-01]],\n",
       "\n",
       "        [[-8.08075011e-01,  4.16068912e-01, -1.52375233e+00],\n",
       "         [-1.09117913e+00,  7.85810053e-01,  1.74384069e+00],\n",
       "         [ 4.61369962e-01,  6.40877664e-01, -5.19854486e-01],\n",
       "         ...,\n",
       "         [-1.12559855e+00,  4.64995116e-01, -1.37535286e+00],\n",
       "         [ 1.00622308e+00,  1.03350329e+00, -2.79855847e-01],\n",
       "         [ 7.55162463e-02, -3.76893550e-01,  4.54806745e-01]],\n",
       "\n",
       "        ...,\n",
       "\n",
       "        [[ 9.40808833e-01, -3.70083414e-02, -1.73867166e+00],\n",
       "         [-3.43254469e-02,  2.68355578e-01, -5.77214897e-01],\n",
       "         [-1.17086112e+00, -7.61858523e-01,  1.08182096e+00],\n",
       "         ...,\n",
       "         [-6.10592782e-01, -1.47691321e+00, -1.04473877e+00],\n",
       "         [ 1.02295375e+00, -2.24531159e-01, -2.00468946e+00],\n",
       "         [-5.66883922e-01,  3.13194990e-01,  1.74139678e-01]],\n",
       "\n",
       "        [[-1.61010945e+00,  9.43051696e-01,  1.58404899e+00],\n",
       "         [ 3.73692572e-01,  5.47547579e-01, -1.32080793e+00],\n",
       "         [ 4.82891440e-01,  6.96918368e-03, -5.49671412e-01],\n",
       "         ...,\n",
       "         [ 1.33412766e+00,  2.34485716e-02, -1.05096018e+00],\n",
       "         [-1.43923461e-01,  5.01370966e-01, -7.60727525e-02],\n",
       "         [-1.35966229e+00,  5.10097682e-01, -2.63655484e-01]],\n",
       "\n",
       "        [[-3.22392255e-01,  1.71695364e+00,  5.68085730e-01],\n",
       "         [ 4.41659093e-01, -2.05376938e-01,  9.62295115e-01],\n",
       "         [ 5.94448037e-02, -9.56335008e-01,  1.48264527e+00],\n",
       "         ...,\n",
       "         [-1.33006823e+00, -7.04903230e-02,  3.52728844e-01],\n",
       "         [-1.27774632e+00, -2.26145506e+00,  1.70906270e+00],\n",
       "         [ 7.70839006e-02,  1.32551178e-01,  3.77091736e-01]]],\n",
       "\n",
       "\n",
       "       [[[ 2.04244122e-01, -1.70210159e+00,  8.81787002e-01],\n",
       "         [ 2.19812465e+00,  3.98442358e-01, -1.23520541e+00],\n",
       "         [ 8.56996328e-02,  1.92994428e+00, -4.12899405e-01],\n",
       "         ...,\n",
       "         [ 2.27363959e-01, -3.53844404e-01, -1.67186344e+00],\n",
       "         [-5.43981269e-02, -1.78784192e-01, -1.34200132e+00],\n",
       "         [ 7.68404543e-01, -1.01994686e-01,  3.08756232e-01]],\n",
       "\n",
       "        [[ 9.12699282e-01,  1.18358523e-01,  3.02645266e-02],\n",
       "         [-5.89118004e-01,  1.49787271e+00,  8.57851207e-01],\n",
       "         [ 1.59213829e+00,  3.78508747e-01, -1.54665411e+00],\n",
       "         ...,\n",
       "         [-2.72317499e-01,  2.03955904e-01,  1.02302587e+00],\n",
       "         [ 1.55139911e+00,  4.62055653e-01,  2.21936718e-01],\n",
       "         [-1.02585161e+00,  1.68443346e+00, -1.07531622e-01]],\n",
       "\n",
       "        [[ 5.35797887e-02, -2.32226658e+00,  1.16012633e+00],\n",
       "         [-1.49427330e+00,  4.54979420e-01,  5.48185408e-01],\n",
       "         [-9.75629568e-01,  1.27988982e+00,  1.99803543e+00],\n",
       "         ...,\n",
       "         [ 6.97665155e-01, -1.12037027e+00,  2.99173921e-01],\n",
       "         [-5.02039850e-01,  1.50710538e-01, -8.78516495e-01],\n",
       "         [-8.83223414e-02, -8.58999193e-01, -1.06384432e+00]],\n",
       "\n",
       "        ...,\n",
       "\n",
       "        [[ 1.10701602e-02,  1.04901604e-01, -1.12837899e+00],\n",
       "         [ 1.51629674e+00,  7.36118674e-01, -3.94290060e-01],\n",
       "         [-7.42124975e-01,  3.39471608e-01,  1.39989052e-02],\n",
       "         ...,\n",
       "         [-1.12840545e+00,  4.04151201e-01,  7.25772202e-01],\n",
       "         [ 1.35143483e+00, -7.75552511e-01, -6.32204115e-01],\n",
       "         [ 5.09346128e-01,  9.50912416e-01,  1.25908220e+00]],\n",
       "\n",
       "        [[ 1.35099767e-02,  1.48143852e+00, -1.06386602e+00],\n",
       "         [ 1.30434966e+00, -1.33036411e+00,  1.67264903e+00],\n",
       "         [-1.31733322e+00, -9.88030672e-01,  3.93410712e-01],\n",
       "         ...,\n",
       "         [-1.16208959e+00, -4.76443082e-01,  1.02045763e+00],\n",
       "         [-9.50904429e-01, -3.12742859e-01,  4.94765550e-01],\n",
       "         [ 3.29854488e-01,  5.84021628e-01,  2.39874497e-01]],\n",
       "\n",
       "        [[ 2.51566619e-01,  5.85042000e-01,  2.06674486e-01],\n",
       "         [ 2.43995929e+00,  2.25354820e-01, -7.18873918e-01],\n",
       "         [-1.18419003e+00,  1.82773978e-01, -6.04843423e-02],\n",
       "         ...,\n",
       "         [-5.68586290e-01, -5.54197907e-01, -8.66577864e-01],\n",
       "         [ 1.72203465e-03, -4.55442935e-01,  1.36304116e+00],\n",
       "         [-4.10397500e-01,  2.59467624e-02, -4.25936073e-01]]],\n",
       "\n",
       "\n",
       "       [[[-2.03907228e+00,  5.56520708e-02, -4.30196971e-01],\n",
       "         [ 6.54965043e-01,  1.83119521e-01,  4.55668509e-01],\n",
       "         [ 2.64130926e+00, -7.05045938e-01, -4.54576939e-01],\n",
       "         ...,\n",
       "         [-9.18285251e-01, -7.50183880e-01,  1.59310246e+00],\n",
       "         [-4.40596282e-01, -1.08886577e-01, -1.61126345e-01],\n",
       "         [ 1.67607236e+00, -1.16494226e+00,  1.12570882e+00]],\n",
       "\n",
       "        [[ 1.03429818e+00,  6.91742718e-01,  3.82212758e-01],\n",
       "         [ 6.95861995e-01,  6.86790645e-02,  1.85290134e+00],\n",
       "         [-9.97849882e-01, -3.08791250e-01, -6.72209978e-01],\n",
       "         ...,\n",
       "         [-1.17517078e+00,  2.03652337e-01, -1.08932924e+00],\n",
       "         [ 1.98506927e+00,  2.47507200e-01, -1.65418014e-01],\n",
       "         [ 1.47032797e+00,  1.46500945e+00, -1.00584412e+00]],\n",
       "\n",
       "        [[ 1.96011114e+00,  1.13004707e-02, -1.54036880e+00],\n",
       "         [-1.23719715e-01, -6.68512046e-01, -1.59353518e+00],\n",
       "         [-4.44179147e-01,  6.37532711e-01,  2.89810181e-01],\n",
       "         ...,\n",
       "         [ 5.13585925e-01,  1.28753260e-01, -2.14357400e+00],\n",
       "         [-8.36252093e-01,  1.03630185e+00,  3.96946222e-01],\n",
       "         [ 7.61674702e-01,  1.76193118e+00, -1.18644357e+00]],\n",
       "\n",
       "        ...,\n",
       "\n",
       "        [[ 4.74707454e-01,  1.78135455e+00,  8.12558293e-01],\n",
       "         [-6.04559124e-01, -4.94409740e-01,  9.02180970e-01],\n",
       "         [-1.00663733e+00,  1.69366670e+00,  3.75603974e-01],\n",
       "         ...,\n",
       "         [ 1.25547528e+00,  1.35714591e+00,  1.31396309e-01],\n",
       "         [-1.04650855e+00, -9.99122977e-01,  5.72855651e-01],\n",
       "         [ 1.66084158e+00,  3.23479623e-01, -4.88915771e-01]],\n",
       "\n",
       "        [[ 3.41400295e-01,  3.59837264e-01,  2.40529642e-01],\n",
       "         [ 6.62708282e-01, -7.12749183e-01,  6.12933397e-01],\n",
       "         [-1.25004575e-01,  1.27797425e+00, -4.36182559e-01],\n",
       "         ...,\n",
       "         [ 1.03623247e+00, -2.06093654e-01, -4.39304352e-01],\n",
       "         [ 2.99824238e-01,  4.83106941e-01, -8.37793574e-02],\n",
       "         [ 9.19595122e-01,  1.90911734e+00, -3.20228422e-03]],\n",
       "\n",
       "        [[-1.83622682e+00, -1.28620672e+00,  7.34413803e-01],\n",
       "         [-6.31208062e-01, -2.45189095e+00,  2.40475565e-01],\n",
       "         [ 7.83706605e-01, -2.29923749e+00, -3.55239064e-01],\n",
       "         ...,\n",
       "         [ 6.69478655e-01,  3.12211007e-01,  6.89180255e-01],\n",
       "         [-7.90041029e-01, -8.46280158e-01,  2.93725371e-01],\n",
       "         [-1.90265164e-01, -1.49332154e+00,  4.41086330e-02]]]],\n",
       "      dtype=float32)>"
      ]
     },
     "execution_count": 17,
     "metadata": {},
     "output_type": "execute_result"
    }
   ],
   "source": [
    "x[:,0:28:2,0:28:2,:]"
   ]
  },
  {
   "cell_type": "markdown",
   "metadata": {},
   "source": [
    "step=-1时"
   ]
  },
  {
   "cell_type": "code",
   "execution_count": 19,
   "metadata": {},
   "outputs": [
    {
     "data": {
      "text/plain": [
       "<tf.Tensor: id=107, shape=(9,), dtype=int32, numpy=array([0, 1, 2, 3, 4, 5, 6, 7, 8], dtype=int32)>"
      ]
     },
     "execution_count": 19,
     "metadata": {},
     "output_type": "execute_result"
    }
   ],
   "source": [
    "x = tf.range(9)\n",
    "x"
   ]
  },
  {
   "cell_type": "markdown",
   "metadata": {},
   "source": [
    "逆序取到第 1 号元素，不包含第 1 号"
   ]
  },
  {
   "cell_type": "code",
   "execution_count": 20,
   "metadata": {},
   "outputs": [
    {
     "data": {
      "text/plain": [
       "<tf.Tensor: id=111, shape=(8,), dtype=int32, numpy=array([8, 7, 6, 5, 4, 3, 2, 1], dtype=int32)>"
      ]
     },
     "execution_count": 20,
     "metadata": {},
     "output_type": "execute_result"
    }
   ],
   "source": [
    "x[8:0:-1]"
   ]
  },
  {
   "cell_type": "markdown",
   "metadata": {},
   "source": [
    "逆序取全部元素"
   ]
  },
  {
   "cell_type": "code",
   "execution_count": 21,
   "metadata": {},
   "outputs": [
    {
     "data": {
      "text/plain": [
       "<tf.Tensor: id=115, shape=(9,), dtype=int32, numpy=array([8, 7, 6, 5, 4, 3, 2, 1, 0], dtype=int32)>"
      ]
     },
     "execution_count": 21,
     "metadata": {},
     "output_type": "execute_result"
    }
   ],
   "source": [
    "x[::-1]"
   ]
  },
  {
   "cell_type": "markdown",
   "metadata": {},
   "source": [
    "逆序间隔采样："
   ]
  },
  {
   "cell_type": "code",
   "execution_count": 22,
   "metadata": {},
   "outputs": [
    {
     "data": {
      "text/plain": [
       "<tf.Tensor: id=119, shape=(5,), dtype=int32, numpy=array([8, 6, 4, 2, 0], dtype=int32)>"
      ]
     },
     "execution_count": 22,
     "metadata": {},
     "output_type": "execute_result"
    }
   ],
   "source": [
    "x[::-2]"
   ]
  },
  {
   "cell_type": "markdown",
   "metadata": {},
   "source": [
    "读取每张图片的所有通道，其中行按着逆序隔行采样，列按着逆序隔行采样"
   ]
  },
  {
   "cell_type": "code",
   "execution_count": 25,
   "metadata": {},
   "outputs": [
    {
     "data": {
      "text/plain": [
       "<tf.Tensor: id=139, shape=(16, 16, 3), dtype=float32, numpy=\n",
       "array([[[ 1.7076184 , -0.5444677 , -1.3459275 ],\n",
       "        [ 1.2990867 , -0.6740708 ,  1.0272897 ],\n",
       "        [ 1.6500206 , -0.95017153,  0.9988256 ],\n",
       "        [-0.04928169,  0.6438419 , -1.3719759 ],\n",
       "        [-0.5772684 , -0.31549358,  1.3918805 ],\n",
       "        [ 0.42881864, -0.17654087,  0.14669144],\n",
       "        [-0.49119735,  0.26027623,  0.52740186],\n",
       "        [-0.24282514, -0.456638  , -0.5282373 ],\n",
       "        [ 1.0869583 , -1.0092403 ,  0.5790364 ],\n",
       "        [ 1.0723886 ,  1.0964345 , -0.39718738],\n",
       "        [-0.7441917 ,  0.7352037 ,  0.6292965 ],\n",
       "        [-0.15156165, -0.2353696 ,  0.13729136],\n",
       "        [-1.1921936 ,  2.2766154 , -0.42525056],\n",
       "        [ 0.17872232, -0.53978467, -0.6836645 ],\n",
       "        [-0.06291558, -0.75408083,  0.3595756 ],\n",
       "        [-0.13884266,  0.57396317, -0.37977764]],\n",
       "\n",
       "       [[-1.488756  ,  2.0465953 ,  0.43124032],\n",
       "        [-1.1662396 ,  0.681597  ,  0.08120437],\n",
       "        [ 1.4840999 , -0.23165964,  0.58834726],\n",
       "        [ 0.0117962 , -0.52921903,  0.6295405 ],\n",
       "        [-1.2059425 , -1.0485309 ,  0.6489149 ],\n",
       "        [-0.603123  , -2.171013  , -1.9870472 ],\n",
       "        [ 0.25063235, -1.3110663 , -1.6666912 ],\n",
       "        [ 0.81023264,  0.85791403, -0.48001483],\n",
       "        [ 0.27610198,  0.58532333,  0.9977337 ],\n",
       "        [ 1.8571932 ,  2.3655124 ,  1.2026329 ],\n",
       "        [ 1.3255627 , -0.05318411, -1.9864638 ],\n",
       "        [-0.9045644 , -0.5374676 ,  1.7006614 ],\n",
       "        [ 0.54124963,  1.4870567 ,  0.4777537 ],\n",
       "        [-0.5324154 ,  0.9529527 ,  0.28541163],\n",
       "        [-0.23632072, -0.8295275 ,  0.5109463 ],\n",
       "        [ 1.3036939 , -0.26603937, -1.7190018 ]],\n",
       "\n",
       "       [[ 0.6742409 ,  0.24316664, -0.13107984],\n",
       "        [ 0.39330953,  0.8375422 , -0.28901628],\n",
       "        [ 0.40527976, -0.74419254, -0.43438423],\n",
       "        [ 0.6035888 , -0.3590779 , -0.2917893 ],\n",
       "        [-1.0120223 ,  0.5621063 , -0.6609092 ],\n",
       "        [-0.6559091 , -0.32893318, -0.06749681],\n",
       "        [ 2.166719  , -0.54436094,  0.43104166],\n",
       "        [ 1.7653697 , -2.8031774 , -1.6676468 ],\n",
       "        [-0.22480017, -0.7414718 ,  0.41321385],\n",
       "        [ 1.048086  ,  0.06989818, -0.7201317 ],\n",
       "        [ 1.4817456 , -0.28003034,  0.12954879],\n",
       "        [-0.87099695,  0.53683925,  0.5790888 ],\n",
       "        [-0.43331107,  0.27662686,  0.35544112],\n",
       "        [ 0.33648112,  0.58794487,  0.04291607],\n",
       "        [-0.5840127 ,  1.0226506 ,  0.24593414],\n",
       "        [-0.9284806 ,  1.3616304 , -1.1859425 ]],\n",
       "\n",
       "       [[ 0.5570109 ,  2.5327735 ,  2.5985537 ],\n",
       "        [-0.49884108,  0.5459536 , -0.50283605],\n",
       "        [-1.5997502 , -0.31068358,  0.09017056],\n",
       "        [-0.38334045, -1.7877641 , -0.06976675],\n",
       "        [-0.5498816 ,  0.60227686,  2.6325943 ],\n",
       "        [ 0.9455123 , -0.2596548 ,  0.7904426 ],\n",
       "        [-0.36549562, -1.0806351 , -0.30579898],\n",
       "        [-0.5455923 , -0.2960787 , -0.766271  ],\n",
       "        [ 0.88577217,  0.2366184 , -0.52253675],\n",
       "        [-1.2682683 ,  0.32413328, -0.5678462 ],\n",
       "        [ 0.77406305, -0.63003266, -0.39320678],\n",
       "        [-0.7591274 ,  0.94046956, -0.04614371],\n",
       "        [-0.9771938 , -0.9706729 , -0.13674076],\n",
       "        [ 0.15664765, -0.40946648, -0.5074703 ],\n",
       "        [ 0.06345401,  0.22128339, -0.88444465],\n",
       "        [-0.08332671, -1.3551657 , -0.1662475 ]],\n",
       "\n",
       "       [[ 1.304359  ,  1.0082617 ,  1.1894431 ],\n",
       "        [ 0.30353197,  1.0315748 ,  1.2180291 ],\n",
       "        [ 1.6508121 , -1.6184924 , -0.6439656 ],\n",
       "        [ 0.8192746 , -1.5626787 ,  0.9278701 ],\n",
       "        [ 1.0455114 ,  0.8359647 , -2.0427966 ],\n",
       "        [-0.8426213 , -0.89968425, -0.96426094],\n",
       "        [ 1.2048594 , -1.4201702 ,  0.25514552],\n",
       "        [ 0.24553335,  1.8318172 ,  0.04883479],\n",
       "        [ 0.33337206, -0.75451773,  0.22552097],\n",
       "        [ 1.1350754 , -0.93285835,  0.7217119 ],\n",
       "        [ 1.8816315 ,  1.3630617 , -0.4261931 ],\n",
       "        [-0.3321575 ,  0.78701454,  1.9071727 ],\n",
       "        [ 0.06509101,  1.7831893 , -1.3263977 ],\n",
       "        [-0.8345575 , -0.00709933, -0.32927096],\n",
       "        [-0.7758481 , -1.7339271 ,  2.8559597 ],\n",
       "        [ 0.73589337,  0.66757804,  1.1121086 ]],\n",
       "\n",
       "       [[-0.6803737 , -0.04126238,  0.12767853],\n",
       "        [-1.0608612 , -0.5672799 , -1.5825447 ],\n",
       "        [-0.90733963, -1.0161003 , -0.5148165 ],\n",
       "        [ 0.05442121, -0.8424905 , -0.16962288],\n",
       "        [-1.5117975 , -0.13084394, -1.2274215 ],\n",
       "        [-0.32364842, -0.02099542,  0.31262884],\n",
       "        [-0.50752735,  0.5784732 ,  0.25532284],\n",
       "        [-1.2567648 , -1.1470251 , -1.2585678 ],\n",
       "        [-0.8303511 , -0.34160617,  1.4307829 ],\n",
       "        [-0.36466193, -1.5578996 , -0.11102869],\n",
       "        [-1.3256389 , -0.2847517 , -0.5837641 ],\n",
       "        [ 0.83350855,  0.7277523 ,  0.21822141],\n",
       "        [-0.82144195, -0.82382125, -0.8281966 ],\n",
       "        [-1.835637  , -2.5338473 ,  0.542294  ],\n",
       "        [ 0.6899922 ,  0.43855605,  0.2700228 ],\n",
       "        [-0.27589616,  0.42630127,  1.0459527 ]],\n",
       "\n",
       "       [[ 0.090358  , -0.7921164 ,  0.64861184],\n",
       "        [-0.58088464,  0.48156014,  0.6444885 ],\n",
       "        [-0.06339064, -0.70311975, -2.137594  ],\n",
       "        [-0.43669713, -0.5700165 ,  0.6423527 ],\n",
       "        [-0.2941422 ,  0.98692566,  1.3385483 ],\n",
       "        [-0.40650958,  0.786218  , -0.13784225],\n",
       "        [ 1.4135708 ,  0.29775456,  0.05441941],\n",
       "        [ 0.7854348 , -0.6502944 , -0.993569  ],\n",
       "        [ 1.72943   , -0.07788803,  1.6514667 ],\n",
       "        [ 0.9283806 , -1.7345039 , -2.9115455 ],\n",
       "        [ 0.37012714,  1.3816625 ,  1.1125602 ],\n",
       "        [ 1.1071249 ,  0.04552513, -0.6712146 ],\n",
       "        [-0.15257297, -0.69284534, -0.01702563],\n",
       "        [ 2.153842  , -0.10230899,  0.195915  ],\n",
       "        [-0.8857918 ,  2.040423  ,  0.83147365],\n",
       "        [-0.7240792 , -0.32726827,  0.8710335 ]],\n",
       "\n",
       "       [[-0.5929308 ,  0.71586907,  0.6799027 ],\n",
       "        [-2.064219  ,  0.48805115, -1.3991481 ],\n",
       "        [-0.52835536, -0.8014419 ,  1.466171  ],\n",
       "        [ 0.2698722 , -1.2759963 ,  0.9971715 ],\n",
       "        [ 0.16172421,  1.162786  , -0.88524276],\n",
       "        [ 0.34540254, -1.6370893 , -0.21205692],\n",
       "        [ 0.3656879 ,  1.5737823 ,  0.25439683],\n",
       "        [ 1.1687036 , -0.28154057,  0.03099556],\n",
       "        [-1.266441  ,  0.12045021, -0.369489  ],\n",
       "        [ 0.3806946 , -1.2586914 ,  0.35227713],\n",
       "        [ 1.3842608 ,  0.98428065, -0.15772097],\n",
       "        [-1.0103161 , -0.5680932 , -0.4707294 ],\n",
       "        [ 0.5238541 ,  0.7753013 , -0.0049599 ],\n",
       "        [ 0.93535745, -1.0416677 ,  1.1914252 ],\n",
       "        [ 3.2182422 ,  0.27514297,  0.23641524],\n",
       "        [-0.6643258 , -0.9389019 , -1.2794582 ]],\n",
       "\n",
       "       [[-0.64424473,  2.0650434 ,  0.6151984 ],\n",
       "        [-1.0084226 ,  0.17653789, -0.99542254],\n",
       "        [ 0.00837498,  0.19771369,  1.3549798 ],\n",
       "        [ 0.30246624, -0.6615058 , -0.29848325],\n",
       "        [ 0.39002624,  0.1715491 ,  0.29972187],\n",
       "        [-0.10470022, -1.2575017 ,  0.2861923 ],\n",
       "        [ 0.36619997,  0.32770386, -0.54343086],\n",
       "        [-0.47705755,  0.02483031,  0.15489404],\n",
       "        [-0.67999786, -0.06927403,  2.0126057 ],\n",
       "        [-0.6635687 ,  0.9459232 ,  1.2785696 ],\n",
       "        [-1.4908706 , -0.8326001 ,  0.18140638],\n",
       "        [ 2.0550497 , -0.34520534,  0.84680396],\n",
       "        [ 0.30338514, -0.6962872 ,  1.433873  ],\n",
       "        [-0.7984685 , -1.2040573 , -1.4848937 ],\n",
       "        [-0.68212086,  0.7918275 ,  0.6268632 ],\n",
       "        [-0.5139528 ,  0.7778519 ,  0.4821702 ]],\n",
       "\n",
       "       [[-1.183439  ,  0.7717134 , -1.1259317 ],\n",
       "        [-1.9425678 ,  1.1353059 , -0.29549286],\n",
       "        [-0.07823486,  0.13924764,  0.76713634],\n",
       "        [-0.96365535,  0.31666574, -0.26537696],\n",
       "        [ 1.2008864 , -1.7367371 , -0.65267795],\n",
       "        [-2.0186002 ,  0.7199699 , -0.6854826 ],\n",
       "        [ 1.037691  ,  1.3314708 , -1.9168313 ],\n",
       "        [-0.55444205,  0.5483554 ,  0.6857831 ],\n",
       "        [ 0.36461556,  0.03959751,  0.00948536],\n",
       "        [ 2.232196  ,  0.28635052,  0.07464631],\n",
       "        [ 0.17451687, -2.3975112 , -0.9106403 ],\n",
       "        [-1.6845628 ,  0.72236097, -1.8766721 ],\n",
       "        [ 1.1105584 , -0.5617926 , -1.6518602 ],\n",
       "        [ 0.6636697 ,  1.8521479 , -1.7186643 ],\n",
       "        [-0.43849963, -0.7732217 ,  0.23687358],\n",
       "        [-0.3434314 ,  0.8491251 ,  0.3787504 ]],\n",
       "\n",
       "       [[ 1.6870356 , -0.8559894 , -1.708236  ],\n",
       "        [ 1.1308881 ,  0.49773252, -0.18977883],\n",
       "        [ 0.62528616, -0.51698667, -1.9617715 ],\n",
       "        [-1.9336425 , -1.8036168 , -0.84271705],\n",
       "        [ 0.58442116, -0.39073744, -0.55791456],\n",
       "        [ 0.4580794 , -1.2311071 ,  1.6788241 ],\n",
       "        [ 0.04304968, -0.15874611, -0.150375  ],\n",
       "        [ 0.76601803, -0.17408265,  1.1336312 ],\n",
       "        [-0.7447962 , -1.4440525 ,  0.97719276],\n",
       "        [-1.965184  , -0.5572197 , -1.2325665 ],\n",
       "        [-2.5197096 ,  1.8168924 ,  0.32048514],\n",
       "        [ 0.99423856, -0.29901   ,  0.05857394],\n",
       "        [ 0.43179032,  0.2301161 ,  0.70887023],\n",
       "        [-1.0162033 ,  0.15147577,  0.18530396],\n",
       "        [-0.3753187 ,  1.2335845 , -0.03351972],\n",
       "        [ 1.095702  , -0.26207942,  0.4757814 ]],\n",
       "\n",
       "       [[ 0.32726103,  0.722393  , -0.0942938 ],\n",
       "        [ 1.3651814 ,  1.8244829 ,  1.0154114 ],\n",
       "        [-0.52779067,  0.05093556,  0.21499738],\n",
       "        [ 0.6037791 ,  0.9611063 ,  0.35914063],\n",
       "        [ 0.48341718, -0.9432285 , -0.39681998],\n",
       "        [-1.485012  , -1.008342  , -0.25055012],\n",
       "        [ 1.2050925 ,  1.7706472 , -3.0263102 ],\n",
       "        [ 0.4870834 ,  0.88319117, -0.54174423],\n",
       "        [-0.8046028 ,  1.4947323 , -1.2195822 ],\n",
       "        [-0.1872375 ,  0.23378073, -0.8674569 ],\n",
       "        [ 0.24145228, -0.7521195 , -1.0769857 ],\n",
       "        [ 0.04995014,  1.6515654 ,  0.58285874],\n",
       "        [ 0.8436606 , -1.5460051 ,  1.0130917 ],\n",
       "        [ 2.5045385 ,  1.5243746 ,  0.25258985],\n",
       "        [-1.1493812 , -0.50644165,  0.30696556],\n",
       "        [-0.20682761,  0.72708035, -0.24627936]],\n",
       "\n",
       "       [[ 0.25731534, -0.18779281, -0.45165834],\n",
       "        [-0.68140733,  0.6643824 , -0.9380351 ],\n",
       "        [-0.41388366, -0.09222996, -2.4159853 ],\n",
       "        [-0.20103484, -0.16370238,  0.4270555 ],\n",
       "        [ 0.378363  , -0.29107988,  0.5110475 ],\n",
       "        [ 0.8132048 ,  1.554942  , -0.16974992],\n",
       "        [-0.846429  ,  0.29195657, -1.4112028 ],\n",
       "        [ 0.3106673 ,  0.34683144, -0.03113623],\n",
       "        [-1.0193648 ,  1.0246037 , -0.58825624],\n",
       "        [ 0.23725128, -0.31936893,  2.016293  ],\n",
       "        [ 1.0350138 , -0.22736816,  1.7012119 ],\n",
       "        [ 0.13643587,  0.37947205, -0.47643805],\n",
       "        [-0.11883891,  0.6088446 ,  1.1400044 ],\n",
       "        [ 2.0310833 ,  1.4009376 ,  0.5267194 ],\n",
       "        [ 0.45726597, -0.02461421,  0.06726315],\n",
       "        [-1.4791552 , -0.4671482 ,  0.40320703]],\n",
       "\n",
       "       [[ 1.3761921 , -0.52023613, -0.5725228 ],\n",
       "        [-1.2734797 ,  1.2042986 ,  1.1529603 ],\n",
       "        [-0.2332866 , -1.0740447 , -1.1101159 ],\n",
       "        [ 0.6427865 ,  1.0929716 ,  0.37998027],\n",
       "        [-0.54225355, -0.13179274, -1.7015085 ],\n",
       "        [-0.56270325,  1.204153  , -2.0424984 ],\n",
       "        [ 0.07624926,  0.8590562 , -1.1729456 ],\n",
       "        [-0.5182891 , -0.9705356 ,  1.0233363 ],\n",
       "        [ 1.2296788 , -1.0455713 ,  0.0661277 ],\n",
       "        [-0.37400183, -1.3362106 , -0.07539793],\n",
       "        [ 1.0217465 ,  1.3809013 , -0.44841745],\n",
       "        [ 0.43386576,  0.8760537 , -1.1770062 ],\n",
       "        [-0.3489791 ,  0.344432  ,  0.5020552 ],\n",
       "        [ 0.36265814, -0.6263777 ,  1.5916787 ],\n",
       "        [-1.4138321 ,  0.20639497,  0.08925938],\n",
       "        [ 1.0101788 , -1.3865458 ,  2.4618018 ]],\n",
       "\n",
       "       [[ 0.6100545 ,  0.26947924,  0.05641535],\n",
       "        [-1.4928868 , -0.32901147, -1.0561897 ],\n",
       "        [-2.0837855 ,  0.14805707,  0.88459164],\n",
       "        [ 1.0759022 , -0.19635719,  0.3476879 ],\n",
       "        [-0.1629667 , -0.7794161 , -1.3920985 ],\n",
       "        [-1.7911298 , -0.56893355,  0.75078636],\n",
       "        [ 0.43038097,  0.26387486,  1.3047752 ],\n",
       "        [ 1.0564834 , -0.93020505, -0.12626326],\n",
       "        [ 0.42458987,  0.9626787 , -0.07556164],\n",
       "        [ 1.0659794 ,  1.3572627 ,  0.51494527],\n",
       "        [-1.7725326 , -0.27948296, -0.5750929 ],\n",
       "        [-0.05789349, -0.03659419, -0.4455035 ],\n",
       "        [-0.37597147, -0.9843472 , -0.14860494],\n",
       "        [ 0.9894207 ,  0.11450917, -1.1187255 ],\n",
       "        [ 0.38104984,  0.12815626, -0.66147715],\n",
       "        [ 0.03423373, -0.21805269, -0.5444961 ]],\n",
       "\n",
       "       [[ 0.91232145, -1.328726  ,  1.2026855 ],\n",
       "        [ 0.10756447, -0.83456343,  0.3975246 ],\n",
       "        [ 0.24165677, -0.31290504,  1.3803567 ],\n",
       "        [-0.4272271 ,  0.24296886, -0.4778088 ],\n",
       "        [-1.2797788 ,  0.5396769 ,  1.4345138 ],\n",
       "        [-0.5492851 ,  0.8924776 , -1.3337872 ],\n",
       "        [-0.33542392,  0.60090077, -0.45826817],\n",
       "        [-0.06156399,  0.02638888,  0.9981095 ],\n",
       "        [ 0.71852684, -1.0495384 , -1.2385042 ],\n",
       "        [ 0.6144402 , -0.07022458,  0.97650635],\n",
       "        [ 0.45457494, -0.9995652 , -1.311047  ],\n",
       "        [ 0.64666766,  0.75507736,  0.30328953],\n",
       "        [ 1.0583196 ,  0.1018346 ,  0.37306443],\n",
       "        [-0.12662153,  0.40592262, -2.2642376 ],\n",
       "        [ 1.4152049 , -1.3462284 , -1.2601151 ],\n",
       "        [-0.73644334, -0.23373327,  0.32794675]]], dtype=float32)>"
      ]
     },
     "execution_count": 25,
     "metadata": {},
     "output_type": "execute_result"
    }
   ],
   "source": [
    "x = tf.random.normal([4,32,32,3])\n",
    "x[0,::-2,::-2]"
   ]
  },
  {
   "cell_type": "markdown",
   "metadata": {},
   "source": [
    "当需要读取 G 通道上的数据\n",
    "时，前面所有维度全部提取"
   ]
  },
  {
   "cell_type": "code",
   "execution_count": 26,
   "metadata": {},
   "outputs": [
    {
     "data": {
      "text/plain": [
       "<tf.Tensor: id=143, shape=(4, 32, 32), dtype=float32, numpy=\n",
       "array([[[ 0.97672015, -0.49107623, -0.70859826, ..., -1.1026745 ,\n",
       "         -0.91111016, -0.15795557],\n",
       "        [ 1.0738639 , -0.23373327, -0.1989854 , ..., -0.83456343,\n",
       "          0.05154002, -1.328726  ],\n",
       "        [ 1.2795941 , -1.4797685 , -0.40197465, ...,  1.1367092 ,\n",
       "         -1.4507173 , -0.89771235],\n",
       "        ...,\n",
       "        [-1.3909503 , -0.26603937,  0.42820105, ...,  0.681597  ,\n",
       "          0.892019  ,  2.0465953 ],\n",
       "        [ 2.2494545 , -2.0616376 ,  0.14103268, ...,  0.2593796 ,\n",
       "          1.2422541 ,  1.5982071 ],\n",
       "        [ 0.9512501 ,  0.57396317,  0.78060377, ..., -0.6740708 ,\n",
       "          2.1235204 , -0.5444677 ]],\n",
       "\n",
       "       [[ 1.112748  ,  1.1064278 ,  0.39678282, ...,  0.96460474,\n",
       "         -1.9400271 , -1.6145859 ],\n",
       "        [-0.11087621, -1.1669091 , -0.9373415 , ...,  0.2928574 ,\n",
       "          0.8366332 ,  1.0534027 ],\n",
       "        [-0.14332461,  0.18483129, -1.4776647 , ..., -0.23642106,\n",
       "          0.08141276, -0.15749174],\n",
       "        ...,\n",
       "        [ 0.06348835,  0.83051294,  0.10035971, ..., -0.4633512 ,\n",
       "         -0.16579142, -0.8609593 ],\n",
       "        [ 0.30910146, -0.56675684,  0.12593211, ..., -0.25976416,\n",
       "         -0.90011626, -0.8281773 ],\n",
       "        [-0.984668  , -0.22575064, -1.2567917 , ...,  0.17101999,\n",
       "         -0.4724684 , -0.03476601]],\n",
       "\n",
       "       [[ 0.66953725, -0.4626473 , -1.2519552 , ...,  1.7969759 ,\n",
       "         -0.11216547,  2.5283506 ],\n",
       "        [ 0.62614   ,  0.10272039,  0.7563804 , ...,  0.9540902 ,\n",
       "          1.7720574 , -2.0599577 ],\n",
       "        [-0.45515227, -1.9960983 , -0.31773612, ..., -1.1191639 ,\n",
       "          1.2504061 ,  0.36137825],\n",
       "        ...,\n",
       "        [ 0.541844  , -0.7646017 ,  2.4878528 , ..., -1.0508995 ,\n",
       "         -0.06210303,  0.1406966 ],\n",
       "        [-0.43983352, -1.8660042 ,  0.33533555, ...,  0.05187141,\n",
       "         -0.7253184 , -0.43740922],\n",
       "        [-1.2450116 ,  1.3919334 ,  0.47839266, ...,  0.9797448 ,\n",
       "         -0.73696464,  0.7857247 ]],\n",
       "\n",
       "       [[-0.9847117 ,  0.17173386, -0.12335648, ...,  1.2338762 ,\n",
       "          0.51359165,  1.7404021 ],\n",
       "        [-0.2962388 ,  0.33968154, -0.636819  , ..., -2.1505852 ,\n",
       "         -1.1766018 , -0.37887478],\n",
       "        [-0.41403973,  0.23017213, -0.7180469 , ...,  0.6473817 ,\n",
       "          0.7450838 , -0.4501811 ],\n",
       "        ...,\n",
       "        [-1.64156   ,  0.4428846 , -0.46175513, ..., -1.0171427 ,\n",
       "         -0.9439698 ,  0.14430192],\n",
       "        [-0.36149636, -0.27162555, -0.24712208, ..., -0.55829483,\n",
       "          0.841142  ,  1.2002013 ],\n",
       "        [ 0.5642116 , -1.0256094 ,  0.37007028, ...,  1.5688919 ,\n",
       "          1.3651257 ,  1.7092906 ]]], dtype=float32)>"
      ]
     },
     "execution_count": 26,
     "metadata": {},
     "output_type": "execute_result"
    }
   ],
   "source": [
    "x[:,:,:,1]"
   ]
  },
  {
   "cell_type": "markdown",
   "metadata": {},
   "source": [
    "为了避免出现像𝑥[: , : , : ,1]这样出现过多冒号的情况，可以使用⋯符号表示取多个维度\n",
    "上所有的数据， 其中维度的数量需根据规则自动推断：当切片方式出现⋯符号时， ⋯符号\n",
    "左边的维度将自动对齐到最左边， ⋯符号右边的维度将自动对齐到最右边，此时系统再自\n",
    "动推断⋯符号代表的维度数量，它的切片方式总结如下："
   ]
  },
  {
   "cell_type": "markdown",
   "metadata": {},
   "source": [
    "|切片方式|意义|\n",
    "|-|-|\n",
    "|a,⋯,b|a 维度对齐到最左边， b 维度对齐到最右边，中间的维度全部读取，其他维度按 a/b 的方式读取|\n",
    "|a,⋯ |a 维度对齐到最左边， a 维度后的所有维度全部读取， a 维度按 a 方式读取。这种情况等同于 a 索引/切片方式|\n",
    "|⋯,b |b 维度对齐到最右边， b 之前的所有维度全部读取， b 维度按 b 方式读取|\n",
    "|⋯ |读取张量所有数据|"
   ]
  },
  {
   "cell_type": "markdown",
   "metadata": {},
   "source": [
    "读取第 1-2 张图片的 G/B 通道数据"
   ]
  },
  {
   "cell_type": "code",
   "execution_count": 28,
   "metadata": {},
   "outputs": [
    {
     "data": {
      "text/plain": [
       "<tf.Tensor: id=147, shape=(2, 32, 32, 2), dtype=float32, numpy=\n",
       "array([[[[ 0.97672015,  0.4603718 ],\n",
       "         [-0.49107623,  0.06701498],\n",
       "         [-0.70859826,  0.5660286 ],\n",
       "         ...,\n",
       "         [-1.1026745 , -0.15162228],\n",
       "         [-0.91111016,  0.8319928 ],\n",
       "         [-0.15795557, -0.45906356]],\n",
       "\n",
       "        [[ 1.0738639 ,  1.4060162 ],\n",
       "         [-0.23373327,  0.32794675],\n",
       "         [-0.1989854 , -0.54550385],\n",
       "         ...,\n",
       "         [-0.83456343,  0.3975246 ],\n",
       "         [ 0.05154002, -1.5098771 ],\n",
       "         [-1.328726  ,  1.2026855 ]],\n",
       "\n",
       "        [[ 1.2795941 , -1.7254738 ],\n",
       "         [-1.4797685 , -0.70065534],\n",
       "         [-0.40197465,  0.45349523],\n",
       "         ...,\n",
       "         [ 1.1367092 ,  0.59552443],\n",
       "         [-1.4507173 , -0.18474379],\n",
       "         [-0.89771235, -0.508731  ]],\n",
       "\n",
       "        ...,\n",
       "\n",
       "        [[-1.3909503 , -1.231666  ],\n",
       "         [-0.26603937, -1.7190018 ],\n",
       "         [ 0.42820105, -0.18879545],\n",
       "         ...,\n",
       "         [ 0.681597  ,  0.08120437],\n",
       "         [ 0.892019  , -0.3439483 ],\n",
       "         [ 2.0465953 ,  0.43124032]],\n",
       "\n",
       "        [[ 2.2494545 ,  0.52481574],\n",
       "         [-2.0616376 ,  1.1878905 ],\n",
       "         [ 0.14103268,  0.836265  ],\n",
       "         ...,\n",
       "         [ 0.2593796 ,  0.32579324],\n",
       "         [ 1.2422541 ,  0.2734051 ],\n",
       "         [ 1.5982071 , -1.2875271 ]],\n",
       "\n",
       "        [[ 0.9512501 ,  0.37186322],\n",
       "         [ 0.57396317, -0.37977764],\n",
       "         [ 0.78060377, -0.5741108 ],\n",
       "         ...,\n",
       "         [-0.6740708 ,  1.0272897 ],\n",
       "         [ 2.1235204 ,  0.33653888],\n",
       "         [-0.5444677 , -1.3459275 ]]],\n",
       "\n",
       "\n",
       "       [[[ 1.112748  ,  1.7799156 ],\n",
       "         [ 1.1064278 , -0.2488572 ],\n",
       "         [ 0.39678282, -0.18989474],\n",
       "         ...,\n",
       "         [ 0.96460474, -0.6554068 ],\n",
       "         [-1.9400271 ,  0.38003728],\n",
       "         [-1.6145859 , -1.4149238 ]],\n",
       "\n",
       "        [[-0.11087621, -1.5129011 ],\n",
       "         [-1.1669091 , -0.25636306],\n",
       "         [-0.9373415 ,  0.35897845],\n",
       "         ...,\n",
       "         [ 0.2928574 , -0.47075352],\n",
       "         [ 0.8366332 , -0.0996248 ],\n",
       "         [ 1.0534027 ,  2.1239974 ]],\n",
       "\n",
       "        [[-0.14332461, -0.98590434],\n",
       "         [ 0.18483129, -0.89056075],\n",
       "         [-1.4776647 , -0.04536107],\n",
       "         ...,\n",
       "         [-0.23642106,  0.80141383],\n",
       "         [ 0.08141276, -0.51414365],\n",
       "         [-0.15749174,  0.47832617]],\n",
       "\n",
       "        ...,\n",
       "\n",
       "        [[ 0.06348835, -0.43783164],\n",
       "         [ 0.83051294, -0.19011214],\n",
       "         [ 0.10035971,  0.03588276],\n",
       "         ...,\n",
       "         [-0.4633512 ,  0.3695817 ],\n",
       "         [-0.16579142,  1.9100963 ],\n",
       "         [-0.8609593 , -1.275321  ]],\n",
       "\n",
       "        [[ 0.30910146, -1.7739043 ],\n",
       "         [-0.56675684, -1.1127195 ],\n",
       "         [ 0.12593211,  0.531219  ],\n",
       "         ...,\n",
       "         [-0.25976416, -0.51340467],\n",
       "         [-0.90011626,  1.613582  ],\n",
       "         [-0.8281773 , -1.2377944 ]],\n",
       "\n",
       "        [[-0.984668  ,  0.7127608 ],\n",
       "         [-0.22575064,  1.0259161 ],\n",
       "         [-1.2567917 ,  0.05129771],\n",
       "         ...,\n",
       "         [ 0.17101999,  0.33702588],\n",
       "         [-0.4724684 ,  0.8093437 ],\n",
       "         [-0.03476601, -1.2469078 ]]]], dtype=float32)>"
      ]
     },
     "execution_count": 28,
     "metadata": {},
     "output_type": "execute_result"
    }
   ],
   "source": [
    "x[0:2,...,1:]"
   ]
  },
  {
   "cell_type": "markdown",
   "metadata": {},
   "source": [
    "读取最后 2 张图片"
   ]
  },
  {
   "cell_type": "code",
   "execution_count": 29,
   "metadata": {},
   "outputs": [
    {
     "data": {
      "text/plain": [
       "<tf.Tensor: id=151, shape=(2, 32, 32, 3), dtype=float32, numpy=\n",
       "array([[[[-1.4069071 ,  0.66953725,  1.8361789 ],\n",
       "         [-1.0405965 , -0.4626473 ,  2.1288238 ],\n",
       "         [-1.5338409 , -1.2519552 , -1.2817392 ],\n",
       "         ...,\n",
       "         [-0.21800065,  1.7969759 ,  2.3351045 ],\n",
       "         [-2.3055615 , -0.11216547, -1.8903465 ],\n",
       "         [-0.05353056,  2.5283506 , -1.3348974 ]],\n",
       "\n",
       "        [[-1.3838996 ,  0.62614   , -1.0276469 ],\n",
       "         [ 0.1156114 ,  0.10272039, -0.665676  ],\n",
       "         [-1.5951    ,  0.7563804 ,  0.07366824],\n",
       "         ...,\n",
       "         [ 1.3909926 ,  0.9540902 , -0.20861392],\n",
       "         [ 1.3329881 ,  1.7720574 ,  0.29327628],\n",
       "         [-0.08888812, -2.0599577 , -0.14053485]],\n",
       "\n",
       "        [[ 0.4488321 , -0.45515227, -0.6322353 ],\n",
       "         [ 0.28268942, -1.9960983 , -1.5518869 ],\n",
       "         [-2.4109185 , -0.31773612, -0.14268124],\n",
       "         ...,\n",
       "         [ 0.8603115 , -1.1191639 ,  0.9027255 ],\n",
       "         [-1.1832116 ,  1.2504061 ,  1.014112  ],\n",
       "         [ 0.820445  ,  0.36137825,  0.78636855]],\n",
       "\n",
       "        ...,\n",
       "\n",
       "        [[-0.57546157,  0.541844  , -1.1392456 ],\n",
       "         [ 0.833791  , -0.7646017 , -0.42067832],\n",
       "         [-1.2823274 ,  2.4878528 , -0.06181113],\n",
       "         ...,\n",
       "         [ 0.56208766, -1.0508995 ,  0.28788045],\n",
       "         [ 0.802249  , -0.06210303,  1.2435226 ],\n",
       "         [-0.4220446 ,  0.1406966 ,  0.3890348 ]],\n",
       "\n",
       "        [[-0.5342799 , -0.43983352,  1.4468626 ],\n",
       "         [ 0.43907383, -1.8660042 , -1.9333099 ],\n",
       "         [ 0.9854354 ,  0.33533555,  0.6897364 ],\n",
       "         ...,\n",
       "         [-2.5581064 ,  0.05187141, -0.32302657],\n",
       "         [ 0.73729694, -0.7253184 ,  0.31336257],\n",
       "         [-0.24378636, -0.43740922,  0.26783   ]],\n",
       "\n",
       "        [[ 1.6615727 , -1.2450116 , -1.5832793 ],\n",
       "         [ 1.252039  ,  1.3919334 , -1.5134957 ],\n",
       "         [-0.18761751,  0.47839266,  0.8689403 ],\n",
       "         ...,\n",
       "         [-0.5449878 ,  0.9797448 ,  0.8124654 ],\n",
       "         [ 0.3482274 , -0.73696464, -0.50582314],\n",
       "         [ 0.05468602,  0.7857247 ,  1.0920724 ]]],\n",
       "\n",
       "\n",
       "       [[[ 0.926619  , -0.9847117 , -0.603535  ],\n",
       "         [ 0.5771199 ,  0.17173386,  0.06590378],\n",
       "         [ 0.48701078, -0.12335648, -1.6639706 ],\n",
       "         ...,\n",
       "         [ 0.64393795,  1.2338762 ,  0.47589278],\n",
       "         [-0.10356295,  0.51359165,  1.0590088 ],\n",
       "         [-0.3678332 ,  1.7404021 ,  0.5283609 ]],\n",
       "\n",
       "        [[-1.3201144 , -0.2962388 , -1.5367333 ],\n",
       "         [ 0.5939211 ,  0.33968154, -1.3017616 ],\n",
       "         [-0.08694565, -0.636819  ,  0.29098088],\n",
       "         ...,\n",
       "         [ 1.5093313 , -2.1505852 ,  0.7461103 ],\n",
       "         [ 0.9085249 , -1.1766018 , -0.00797724],\n",
       "         [-0.602293  , -0.37887478, -0.5578334 ]],\n",
       "\n",
       "        [[-0.15584934, -0.41403973, -0.3478709 ],\n",
       "         [ 0.80314976,  0.23017213,  0.40515295],\n",
       "         [ 0.92404133, -0.7180469 ,  0.4093513 ],\n",
       "         ...,\n",
       "         [ 1.3488555 ,  0.6473817 ,  1.2233162 ],\n",
       "         [-0.3863415 ,  0.7450838 ,  0.5233284 ],\n",
       "         [ 0.6056083 , -0.4501811 , -0.33783522]],\n",
       "\n",
       "        ...,\n",
       "\n",
       "        [[ 1.0330961 , -1.64156   , -0.98821837],\n",
       "         [-0.3169858 ,  0.4428846 , -0.0920804 ],\n",
       "         [ 0.00770793, -0.46175513,  0.07160579],\n",
       "         ...,\n",
       "         [-0.4988989 , -1.0171427 , -0.48284227],\n",
       "         [ 0.04548277, -0.9439698 ,  0.47661826],\n",
       "         [ 0.01696797,  0.14430192,  0.6189624 ]],\n",
       "\n",
       "        [[-0.9923816 , -0.36149636,  0.43488967],\n",
       "         [ 0.27200747, -0.27162555,  0.40845466],\n",
       "         [ 1.1882141 , -0.24712208, -0.7554036 ],\n",
       "         ...,\n",
       "         [ 0.33475122, -0.55829483, -0.587406  ],\n",
       "         [ 1.7754616 ,  0.841142  ,  1.1124175 ],\n",
       "         [-0.22348845,  1.2002013 ,  1.4808769 ]],\n",
       "\n",
       "        [[-1.0360467 ,  0.5642116 ,  1.0056088 ],\n",
       "         [ 0.4685965 , -1.0256094 , -0.6789402 ],\n",
       "         [-0.87516797,  0.37007028,  0.4134044 ],\n",
       "         ...,\n",
       "         [ 0.4639182 ,  1.5688919 ,  1.2573161 ],\n",
       "         [-0.01365179,  1.3651257 ,  0.08669508],\n",
       "         [ 0.27156934,  1.7092906 , -0.50348246]]]], dtype=float32)>"
      ]
     },
     "execution_count": 29,
     "metadata": {},
     "output_type": "execute_result"
    }
   ],
   "source": [
    "x[2:,...]"
   ]
  },
  {
   "cell_type": "markdown",
   "metadata": {},
   "source": [
    "读取 R/G 通道数据"
   ]
  },
  {
   "cell_type": "code",
   "execution_count": 30,
   "metadata": {},
   "outputs": [
    {
     "data": {
      "text/plain": [
       "<tf.Tensor: id=155, shape=(4, 32, 32, 2), dtype=float32, numpy=\n",
       "array([[[[-0.70895666,  0.97672015],\n",
       "         [ 0.36162984, -0.49107623],\n",
       "         [ 1.2069854 , -0.70859826],\n",
       "         ...,\n",
       "         [ 1.6082137 , -1.1026745 ],\n",
       "         [ 1.0661865 , -0.91111016],\n",
       "         [ 0.68218374, -0.15795557]],\n",
       "\n",
       "        [[ 0.31088117,  1.0738639 ],\n",
       "         [-0.73644334, -0.23373327],\n",
       "         [ 2.8944006 , -0.1989854 ],\n",
       "         ...,\n",
       "         [ 0.10756447, -0.83456343],\n",
       "         [ 0.48495084,  0.05154002],\n",
       "         [ 0.91232145, -1.328726  ]],\n",
       "\n",
       "        [[-0.03945472,  1.2795941 ],\n",
       "         [-0.21200061, -1.4797685 ],\n",
       "         [-0.80729324, -0.40197465],\n",
       "         ...,\n",
       "         [ 0.32206896,  1.1367092 ],\n",
       "         [-1.2263781 , -1.4507173 ],\n",
       "         [ 0.54238534, -0.89771235]],\n",
       "\n",
       "        ...,\n",
       "\n",
       "        [[-0.07257909, -1.3909503 ],\n",
       "         [ 1.3036939 , -0.26603937],\n",
       "         [-0.15336335,  0.42820105],\n",
       "         ...,\n",
       "         [-1.1662396 ,  0.681597  ],\n",
       "         [-0.1862786 ,  0.892019  ],\n",
       "         [-1.488756  ,  2.0465953 ]],\n",
       "\n",
       "        [[-1.841379  ,  2.2494545 ],\n",
       "         [ 0.584218  , -2.0616376 ],\n",
       "         [-0.46682516,  0.14103268],\n",
       "         ...,\n",
       "         [ 1.8733889 ,  0.2593796 ],\n",
       "         [ 0.16991344,  1.2422541 ],\n",
       "         [ 0.00401139,  1.5982071 ]],\n",
       "\n",
       "        [[ 1.0310893 ,  0.9512501 ],\n",
       "         [-0.13884266,  0.57396317],\n",
       "         [ 1.0226504 ,  0.78060377],\n",
       "         ...,\n",
       "         [ 1.2990867 , -0.6740708 ],\n",
       "         [-1.8684692 ,  2.1235204 ],\n",
       "         [ 1.7076184 , -0.5444677 ]]],\n",
       "\n",
       "\n",
       "       [[[-0.38246906,  1.112748  ],\n",
       "         [-1.8404406 ,  1.1064278 ],\n",
       "         [-0.12058662,  0.39678282],\n",
       "         ...,\n",
       "         [ 1.6132945 ,  0.96460474],\n",
       "         [-1.1311255 , -1.9400271 ],\n",
       "         [ 0.21171018, -1.6145859 ]],\n",
       "\n",
       "        [[ 0.99151933, -0.11087621],\n",
       "         [-0.00373039, -1.1669091 ],\n",
       "         [ 0.6601607 , -0.9373415 ],\n",
       "         ...,\n",
       "         [-0.39821252,  0.2928574 ],\n",
       "         [ 0.2284117 ,  0.8366332 ],\n",
       "         [ 1.4344832 ,  1.0534027 ]],\n",
       "\n",
       "        [[-1.6759865 , -0.14332461],\n",
       "         [-2.1488605 ,  0.18483129],\n",
       "         [ 0.9709831 , -1.4776647 ],\n",
       "         ...,\n",
       "         [-1.3788459 , -0.23642106],\n",
       "         [-1.5067405 ,  0.08141276],\n",
       "         [-0.7238249 , -0.15749174]],\n",
       "\n",
       "        ...,\n",
       "\n",
       "        [[-0.65245116,  0.06348835],\n",
       "         [-0.05891167,  0.83051294],\n",
       "         [ 0.6533355 ,  0.10035971],\n",
       "         ...,\n",
       "         [ 0.29152218, -0.4633512 ],\n",
       "         [ 0.32147202, -0.16579142],\n",
       "         [ 0.17413124, -0.8609593 ]],\n",
       "\n",
       "        [[ 0.7504864 ,  0.30910146],\n",
       "         [ 1.0357478 , -0.56675684],\n",
       "         [ 1.0270965 ,  0.12593211],\n",
       "         ...,\n",
       "         [ 0.5105225 , -0.25976416],\n",
       "         [-1.5321232 , -0.90011626],\n",
       "         [-1.1091385 , -0.8281773 ]],\n",
       "\n",
       "        [[ 1.0969784 , -0.984668  ],\n",
       "         [ 1.4135439 , -0.22575064],\n",
       "         [-0.89226323, -1.2567917 ],\n",
       "         ...,\n",
       "         [-2.0824318 ,  0.17101999],\n",
       "         [-0.10462344, -0.4724684 ],\n",
       "         [ 1.9125738 , -0.03476601]]],\n",
       "\n",
       "\n",
       "       [[[-1.4069071 ,  0.66953725],\n",
       "         [-1.0405965 , -0.4626473 ],\n",
       "         [-1.5338409 , -1.2519552 ],\n",
       "         ...,\n",
       "         [-0.21800065,  1.7969759 ],\n",
       "         [-2.3055615 , -0.11216547],\n",
       "         [-0.05353056,  2.5283506 ]],\n",
       "\n",
       "        [[-1.3838996 ,  0.62614   ],\n",
       "         [ 0.1156114 ,  0.10272039],\n",
       "         [-1.5951    ,  0.7563804 ],\n",
       "         ...,\n",
       "         [ 1.3909926 ,  0.9540902 ],\n",
       "         [ 1.3329881 ,  1.7720574 ],\n",
       "         [-0.08888812, -2.0599577 ]],\n",
       "\n",
       "        [[ 0.4488321 , -0.45515227],\n",
       "         [ 0.28268942, -1.9960983 ],\n",
       "         [-2.4109185 , -0.31773612],\n",
       "         ...,\n",
       "         [ 0.8603115 , -1.1191639 ],\n",
       "         [-1.1832116 ,  1.2504061 ],\n",
       "         [ 0.820445  ,  0.36137825]],\n",
       "\n",
       "        ...,\n",
       "\n",
       "        [[-0.57546157,  0.541844  ],\n",
       "         [ 0.833791  , -0.7646017 ],\n",
       "         [-1.2823274 ,  2.4878528 ],\n",
       "         ...,\n",
       "         [ 0.56208766, -1.0508995 ],\n",
       "         [ 0.802249  , -0.06210303],\n",
       "         [-0.4220446 ,  0.1406966 ]],\n",
       "\n",
       "        [[-0.5342799 , -0.43983352],\n",
       "         [ 0.43907383, -1.8660042 ],\n",
       "         [ 0.9854354 ,  0.33533555],\n",
       "         ...,\n",
       "         [-2.5581064 ,  0.05187141],\n",
       "         [ 0.73729694, -0.7253184 ],\n",
       "         [-0.24378636, -0.43740922]],\n",
       "\n",
       "        [[ 1.6615727 , -1.2450116 ],\n",
       "         [ 1.252039  ,  1.3919334 ],\n",
       "         [-0.18761751,  0.47839266],\n",
       "         ...,\n",
       "         [-0.5449878 ,  0.9797448 ],\n",
       "         [ 0.3482274 , -0.73696464],\n",
       "         [ 0.05468602,  0.7857247 ]]],\n",
       "\n",
       "\n",
       "       [[[ 0.926619  , -0.9847117 ],\n",
       "         [ 0.5771199 ,  0.17173386],\n",
       "         [ 0.48701078, -0.12335648],\n",
       "         ...,\n",
       "         [ 0.64393795,  1.2338762 ],\n",
       "         [-0.10356295,  0.51359165],\n",
       "         [-0.3678332 ,  1.7404021 ]],\n",
       "\n",
       "        [[-1.3201144 , -0.2962388 ],\n",
       "         [ 0.5939211 ,  0.33968154],\n",
       "         [-0.08694565, -0.636819  ],\n",
       "         ...,\n",
       "         [ 1.5093313 , -2.1505852 ],\n",
       "         [ 0.9085249 , -1.1766018 ],\n",
       "         [-0.602293  , -0.37887478]],\n",
       "\n",
       "        [[-0.15584934, -0.41403973],\n",
       "         [ 0.80314976,  0.23017213],\n",
       "         [ 0.92404133, -0.7180469 ],\n",
       "         ...,\n",
       "         [ 1.3488555 ,  0.6473817 ],\n",
       "         [-0.3863415 ,  0.7450838 ],\n",
       "         [ 0.6056083 , -0.4501811 ]],\n",
       "\n",
       "        ...,\n",
       "\n",
       "        [[ 1.0330961 , -1.64156   ],\n",
       "         [-0.3169858 ,  0.4428846 ],\n",
       "         [ 0.00770793, -0.46175513],\n",
       "         ...,\n",
       "         [-0.4988989 , -1.0171427 ],\n",
       "         [ 0.04548277, -0.9439698 ],\n",
       "         [ 0.01696797,  0.14430192]],\n",
       "\n",
       "        [[-0.9923816 , -0.36149636],\n",
       "         [ 0.27200747, -0.27162555],\n",
       "         [ 1.1882141 , -0.24712208],\n",
       "         ...,\n",
       "         [ 0.33475122, -0.55829483],\n",
       "         [ 1.7754616 ,  0.841142  ],\n",
       "         [-0.22348845,  1.2002013 ]],\n",
       "\n",
       "        [[-1.0360467 ,  0.5642116 ],\n",
       "         [ 0.4685965 , -1.0256094 ],\n",
       "         [-0.87516797,  0.37007028],\n",
       "         ...,\n",
       "         [ 0.4639182 ,  1.5688919 ],\n",
       "         [-0.01365179,  1.3651257 ],\n",
       "         [ 0.27156934,  1.7092906 ]]]], dtype=float32)>"
      ]
     },
     "execution_count": 30,
     "metadata": {},
     "output_type": "execute_result"
    }
   ],
   "source": [
    "x[...,:2]"
   ]
  },
  {
   "cell_type": "markdown",
   "metadata": {},
   "source": [
    "Reshape"
   ]
  },
  {
   "cell_type": "code",
   "execution_count": 31,
   "metadata": {},
   "outputs": [
    {
     "data": {
      "text/plain": [
       "<tf.Tensor: id=161, shape=(2, 4, 4, 3), dtype=int32, numpy=\n",
       "array([[[[ 0,  1,  2],\n",
       "         [ 3,  4,  5],\n",
       "         [ 6,  7,  8],\n",
       "         [ 9, 10, 11]],\n",
       "\n",
       "        [[12, 13, 14],\n",
       "         [15, 16, 17],\n",
       "         [18, 19, 20],\n",
       "         [21, 22, 23]],\n",
       "\n",
       "        [[24, 25, 26],\n",
       "         [27, 28, 29],\n",
       "         [30, 31, 32],\n",
       "         [33, 34, 35]],\n",
       "\n",
       "        [[36, 37, 38],\n",
       "         [39, 40, 41],\n",
       "         [42, 43, 44],\n",
       "         [45, 46, 47]]],\n",
       "\n",
       "\n",
       "       [[[48, 49, 50],\n",
       "         [51, 52, 53],\n",
       "         [54, 55, 56],\n",
       "         [57, 58, 59]],\n",
       "\n",
       "        [[60, 61, 62],\n",
       "         [63, 64, 65],\n",
       "         [66, 67, 68],\n",
       "         [69, 70, 71]],\n",
       "\n",
       "        [[72, 73, 74],\n",
       "         [75, 76, 77],\n",
       "         [78, 79, 80],\n",
       "         [81, 82, 83]],\n",
       "\n",
       "        [[84, 85, 86],\n",
       "         [87, 88, 89],\n",
       "         [90, 91, 92],\n",
       "         [93, 94, 95]]]], dtype=int32)>"
      ]
     },
     "execution_count": 31,
     "metadata": {},
     "output_type": "execute_result"
    }
   ],
   "source": [
    "x = tf.range(96)\n",
    "x =tf.reshape(x,[2,4,4,3])\n",
    "x"
   ]
  },
  {
   "cell_type": "code",
   "execution_count": 32,
   "metadata": {},
   "outputs": [
    {
     "data": {
      "text/plain": [
       "(4, TensorShape([2, 4, 4, 3]))"
      ]
     },
     "execution_count": 32,
     "metadata": {},
     "output_type": "execute_result"
    }
   ],
   "source": [
    "x.ndim,x.shape"
   ]
  },
  {
   "cell_type": "code",
   "execution_count": 33,
   "metadata": {},
   "outputs": [
    {
     "data": {
      "text/plain": [
       "<tf.Tensor: id=163, shape=(2, 48), dtype=int32, numpy=\n",
       "array([[ 0,  1,  2,  3,  4,  5,  6,  7,  8,  9, 10, 11, 12, 13, 14, 15,\n",
       "        16, 17, 18, 19, 20, 21, 22, 23, 24, 25, 26, 27, 28, 29, 30, 31,\n",
       "        32, 33, 34, 35, 36, 37, 38, 39, 40, 41, 42, 43, 44, 45, 46, 47],\n",
       "       [48, 49, 50, 51, 52, 53, 54, 55, 56, 57, 58, 59, 60, 61, 62, 63,\n",
       "        64, 65, 66, 67, 68, 69, 70, 71, 72, 73, 74, 75, 76, 77, 78, 79,\n",
       "        80, 81, 82, 83, 84, 85, 86, 87, 88, 89, 90, 91, 92, 93, 94, 95]],\n",
       "      dtype=int32)>"
      ]
     },
     "execution_count": 33,
     "metadata": {},
     "output_type": "execute_result"
    }
   ],
   "source": [
    "tf.reshape(x,[2,-1])"
   ]
  },
  {
   "cell_type": "markdown",
   "metadata": {},
   "source": [
    "其中的参数-1 表示当前轴上长度需要根据视图总元素不变的法则自动推导， 从而方便用户书写。 比如，上面的-1 可以推导 (2* 4 * 4*3)/2 = 48"
   ]
  },
  {
   "cell_type": "code",
   "execution_count": 34,
   "metadata": {},
   "outputs": [
    {
     "data": {
      "text/plain": [
       "<tf.Tensor: id=165, shape=(2, 16, 3), dtype=int32, numpy=\n",
       "array([[[ 0,  1,  2],\n",
       "        [ 3,  4,  5],\n",
       "        [ 6,  7,  8],\n",
       "        [ 9, 10, 11],\n",
       "        [12, 13, 14],\n",
       "        [15, 16, 17],\n",
       "        [18, 19, 20],\n",
       "        [21, 22, 23],\n",
       "        [24, 25, 26],\n",
       "        [27, 28, 29],\n",
       "        [30, 31, 32],\n",
       "        [33, 34, 35],\n",
       "        [36, 37, 38],\n",
       "        [39, 40, 41],\n",
       "        [42, 43, 44],\n",
       "        [45, 46, 47]],\n",
       "\n",
       "       [[48, 49, 50],\n",
       "        [51, 52, 53],\n",
       "        [54, 55, 56],\n",
       "        [57, 58, 59],\n",
       "        [60, 61, 62],\n",
       "        [63, 64, 65],\n",
       "        [66, 67, 68],\n",
       "        [69, 70, 71],\n",
       "        [72, 73, 74],\n",
       "        [75, 76, 77],\n",
       "        [78, 79, 80],\n",
       "        [81, 82, 83],\n",
       "        [84, 85, 86],\n",
       "        [87, 88, 89],\n",
       "        [90, 91, 92],\n",
       "        [93, 94, 95]]], dtype=int32)>"
      ]
     },
     "execution_count": 34,
     "metadata": {},
     "output_type": "execute_result"
    }
   ],
   "source": [
    "#再次改变数据的视图为[2,16,3]\n",
    "tf.reshape(x,[2,-1,3])"
   ]
  },
  {
   "cell_type": "markdown",
   "metadata": {},
   "source": [
    "增删维度"
   ]
  },
  {
   "cell_type": "markdown",
   "metadata": {},
   "source": [
    "考虑一个具体例子，一张 28x28 灰度图片的数据保存为 shape 为[28,28]的张量， 在末\n",
    "尾给张量增加一新维度， 定义为为通道数维度，此时张量的 shape 变为[28,28,1]"
   ]
  },
  {
   "cell_type": "code",
   "execution_count": 40,
   "metadata": {},
   "outputs": [
    {
     "data": {
      "text/plain": [
       "<tf.Tensor: id=183, shape=(28, 28), dtype=int32, numpy=\n",
       "array([[7, 8, 0, 6, 6, 0, 0, 1, 3, 8, 1, 6, 5, 5, 7, 0, 9, 7, 8, 2, 8, 6,\n",
       "        9, 0, 8, 1, 1, 2],\n",
       "       [0, 5, 0, 4, 1, 9, 9, 0, 1, 2, 0, 2, 1, 2, 7, 0, 5, 5, 7, 3, 3, 6,\n",
       "        9, 0, 1, 0, 6, 2],\n",
       "       [0, 3, 1, 6, 9, 7, 3, 6, 4, 0, 1, 6, 4, 3, 9, 7, 7, 2, 6, 8, 9, 2,\n",
       "        3, 0, 1, 0, 4, 4],\n",
       "       [8, 5, 8, 6, 2, 9, 8, 4, 7, 6, 4, 9, 7, 4, 0, 5, 3, 2, 0, 8, 2, 4,\n",
       "        5, 1, 2, 5, 5, 2],\n",
       "       [9, 0, 8, 5, 3, 8, 1, 0, 2, 6, 3, 3, 8, 9, 7, 9, 5, 8, 6, 0, 4, 4,\n",
       "        7, 1, 1, 8, 3, 6],\n",
       "       [7, 2, 4, 5, 8, 0, 0, 8, 0, 2, 7, 8, 5, 3, 2, 5, 0, 5, 8, 7, 4, 8,\n",
       "        6, 4, 3, 4, 4, 3],\n",
       "       [9, 5, 6, 5, 7, 6, 2, 7, 4, 6, 1, 9, 9, 1, 7, 3, 8, 2, 2, 0, 4, 5,\n",
       "        8, 3, 6, 4, 0, 9],\n",
       "       [9, 7, 6, 6, 5, 6, 2, 0, 1, 8, 5, 9, 5, 8, 8, 8, 2, 5, 1, 3, 7, 9,\n",
       "        5, 1, 6, 9, 7, 5],\n",
       "       [5, 6, 3, 3, 2, 3, 2, 3, 1, 5, 7, 1, 1, 6, 8, 8, 0, 0, 9, 6, 6, 9,\n",
       "        7, 1, 5, 8, 6, 8],\n",
       "       [2, 9, 4, 5, 6, 8, 9, 4, 5, 3, 0, 5, 0, 6, 4, 4, 1, 7, 5, 4, 1, 8,\n",
       "        4, 2, 5, 8, 5, 1],\n",
       "       [6, 9, 1, 7, 4, 3, 8, 0, 3, 9, 2, 0, 6, 0, 0, 3, 6, 7, 3, 1, 1, 5,\n",
       "        0, 3, 6, 5, 0, 8],\n",
       "       [9, 1, 9, 1, 0, 1, 0, 7, 2, 1, 4, 4, 6, 0, 3, 0, 2, 5, 6, 5, 4, 6,\n",
       "        6, 6, 1, 0, 1, 0],\n",
       "       [5, 6, 4, 6, 4, 3, 7, 4, 6, 3, 5, 6, 4, 3, 3, 1, 5, 0, 1, 1, 1, 4,\n",
       "        8, 5, 2, 9, 1, 2],\n",
       "       [7, 3, 5, 6, 6, 4, 9, 2, 4, 9, 6, 5, 5, 5, 5, 8, 9, 4, 3, 6, 0, 6,\n",
       "        3, 3, 2, 9, 9, 8],\n",
       "       [9, 8, 7, 5, 1, 3, 0, 9, 9, 7, 3, 8, 7, 9, 6, 2, 5, 5, 2, 1, 6, 5,\n",
       "        5, 3, 7, 3, 5, 5],\n",
       "       [3, 6, 9, 7, 2, 4, 4, 8, 9, 0, 7, 9, 7, 9, 1, 6, 2, 0, 8, 6, 0, 0,\n",
       "        5, 1, 6, 9, 6, 5],\n",
       "       [2, 8, 9, 6, 7, 0, 6, 1, 8, 8, 5, 8, 9, 5, 2, 0, 7, 3, 0, 2, 7, 9,\n",
       "        1, 5, 1, 9, 0, 9],\n",
       "       [2, 5, 3, 3, 4, 1, 9, 6, 6, 7, 9, 2, 2, 1, 4, 8, 8, 2, 2, 0, 5, 3,\n",
       "        1, 9, 7, 4, 4, 5],\n",
       "       [3, 9, 2, 4, 0, 0, 4, 4, 6, 7, 5, 5, 2, 4, 7, 6, 3, 9, 8, 3, 3, 7,\n",
       "        8, 9, 6, 3, 3, 3],\n",
       "       [1, 2, 7, 6, 3, 2, 6, 8, 9, 9, 9, 7, 7, 0, 0, 8, 9, 8, 4, 4, 6, 7,\n",
       "        9, 9, 3, 3, 2, 4],\n",
       "       [1, 7, 7, 6, 2, 6, 0, 8, 5, 9, 7, 7, 4, 5, 7, 2, 5, 1, 6, 1, 1, 8,\n",
       "        7, 0, 5, 3, 9, 6],\n",
       "       [5, 3, 4, 7, 7, 8, 2, 3, 2, 4, 8, 0, 3, 2, 3, 1, 2, 7, 4, 7, 0, 2,\n",
       "        5, 8, 3, 2, 2, 8],\n",
       "       [9, 7, 2, 7, 4, 3, 2, 9, 3, 1, 5, 9, 4, 5, 0, 3, 2, 9, 9, 4, 8, 4,\n",
       "        4, 1, 9, 2, 2, 5],\n",
       "       [5, 6, 8, 1, 2, 5, 2, 2, 4, 9, 3, 3, 6, 5, 3, 7, 7, 8, 4, 7, 2, 0,\n",
       "        8, 9, 2, 4, 9, 9],\n",
       "       [1, 8, 1, 3, 0, 0, 3, 3, 0, 9, 7, 4, 1, 2, 6, 0, 8, 7, 5, 2, 7, 1,\n",
       "        1, 7, 1, 8, 6, 6],\n",
       "       [2, 1, 2, 0, 2, 8, 4, 8, 9, 7, 2, 5, 1, 7, 3, 5, 5, 3, 7, 3, 6, 2,\n",
       "        1, 0, 0, 4, 8, 2],\n",
       "       [8, 3, 3, 8, 2, 1, 3, 4, 5, 2, 5, 6, 1, 1, 8, 8, 2, 0, 2, 8, 0, 0,\n",
       "        8, 0, 1, 2, 9, 3],\n",
       "       [8, 0, 6, 8, 9, 1, 0, 5, 1, 6, 2, 6, 2, 4, 6, 6, 8, 7, 6, 8, 1, 7,\n",
       "        3, 6, 5, 4, 4, 9]], dtype=int32)>"
      ]
     },
     "execution_count": 40,
     "metadata": {},
     "output_type": "execute_result"
    }
   ],
   "source": [
    "x = tf.random.uniform([28,28],maxval=10,dtype=tf.int32)\n",
    "x"
   ]
  },
  {
   "cell_type": "code",
   "execution_count": 41,
   "metadata": {},
   "outputs": [
    {
     "data": {
      "text/plain": [
       "<tf.Tensor: id=185, shape=(28, 28, 1), dtype=int32, numpy=\n",
       "array([[[7],\n",
       "        [8],\n",
       "        [0],\n",
       "        [6],\n",
       "        [6],\n",
       "        [0],\n",
       "        [0],\n",
       "        [1],\n",
       "        [3],\n",
       "        [8],\n",
       "        [1],\n",
       "        [6],\n",
       "        [5],\n",
       "        [5],\n",
       "        [7],\n",
       "        [0],\n",
       "        [9],\n",
       "        [7],\n",
       "        [8],\n",
       "        [2],\n",
       "        [8],\n",
       "        [6],\n",
       "        [9],\n",
       "        [0],\n",
       "        [8],\n",
       "        [1],\n",
       "        [1],\n",
       "        [2]],\n",
       "\n",
       "       [[0],\n",
       "        [5],\n",
       "        [0],\n",
       "        [4],\n",
       "        [1],\n",
       "        [9],\n",
       "        [9],\n",
       "        [0],\n",
       "        [1],\n",
       "        [2],\n",
       "        [0],\n",
       "        [2],\n",
       "        [1],\n",
       "        [2],\n",
       "        [7],\n",
       "        [0],\n",
       "        [5],\n",
       "        [5],\n",
       "        [7],\n",
       "        [3],\n",
       "        [3],\n",
       "        [6],\n",
       "        [9],\n",
       "        [0],\n",
       "        [1],\n",
       "        [0],\n",
       "        [6],\n",
       "        [2]],\n",
       "\n",
       "       [[0],\n",
       "        [3],\n",
       "        [1],\n",
       "        [6],\n",
       "        [9],\n",
       "        [7],\n",
       "        [3],\n",
       "        [6],\n",
       "        [4],\n",
       "        [0],\n",
       "        [1],\n",
       "        [6],\n",
       "        [4],\n",
       "        [3],\n",
       "        [9],\n",
       "        [7],\n",
       "        [7],\n",
       "        [2],\n",
       "        [6],\n",
       "        [8],\n",
       "        [9],\n",
       "        [2],\n",
       "        [3],\n",
       "        [0],\n",
       "        [1],\n",
       "        [0],\n",
       "        [4],\n",
       "        [4]],\n",
       "\n",
       "       [[8],\n",
       "        [5],\n",
       "        [8],\n",
       "        [6],\n",
       "        [2],\n",
       "        [9],\n",
       "        [8],\n",
       "        [4],\n",
       "        [7],\n",
       "        [6],\n",
       "        [4],\n",
       "        [9],\n",
       "        [7],\n",
       "        [4],\n",
       "        [0],\n",
       "        [5],\n",
       "        [3],\n",
       "        [2],\n",
       "        [0],\n",
       "        [8],\n",
       "        [2],\n",
       "        [4],\n",
       "        [5],\n",
       "        [1],\n",
       "        [2],\n",
       "        [5],\n",
       "        [5],\n",
       "        [2]],\n",
       "\n",
       "       [[9],\n",
       "        [0],\n",
       "        [8],\n",
       "        [5],\n",
       "        [3],\n",
       "        [8],\n",
       "        [1],\n",
       "        [0],\n",
       "        [2],\n",
       "        [6],\n",
       "        [3],\n",
       "        [3],\n",
       "        [8],\n",
       "        [9],\n",
       "        [7],\n",
       "        [9],\n",
       "        [5],\n",
       "        [8],\n",
       "        [6],\n",
       "        [0],\n",
       "        [4],\n",
       "        [4],\n",
       "        [7],\n",
       "        [1],\n",
       "        [1],\n",
       "        [8],\n",
       "        [3],\n",
       "        [6]],\n",
       "\n",
       "       [[7],\n",
       "        [2],\n",
       "        [4],\n",
       "        [5],\n",
       "        [8],\n",
       "        [0],\n",
       "        [0],\n",
       "        [8],\n",
       "        [0],\n",
       "        [2],\n",
       "        [7],\n",
       "        [8],\n",
       "        [5],\n",
       "        [3],\n",
       "        [2],\n",
       "        [5],\n",
       "        [0],\n",
       "        [5],\n",
       "        [8],\n",
       "        [7],\n",
       "        [4],\n",
       "        [8],\n",
       "        [6],\n",
       "        [4],\n",
       "        [3],\n",
       "        [4],\n",
       "        [4],\n",
       "        [3]],\n",
       "\n",
       "       [[9],\n",
       "        [5],\n",
       "        [6],\n",
       "        [5],\n",
       "        [7],\n",
       "        [6],\n",
       "        [2],\n",
       "        [7],\n",
       "        [4],\n",
       "        [6],\n",
       "        [1],\n",
       "        [9],\n",
       "        [9],\n",
       "        [1],\n",
       "        [7],\n",
       "        [3],\n",
       "        [8],\n",
       "        [2],\n",
       "        [2],\n",
       "        [0],\n",
       "        [4],\n",
       "        [5],\n",
       "        [8],\n",
       "        [3],\n",
       "        [6],\n",
       "        [4],\n",
       "        [0],\n",
       "        [9]],\n",
       "\n",
       "       [[9],\n",
       "        [7],\n",
       "        [6],\n",
       "        [6],\n",
       "        [5],\n",
       "        [6],\n",
       "        [2],\n",
       "        [0],\n",
       "        [1],\n",
       "        [8],\n",
       "        [5],\n",
       "        [9],\n",
       "        [5],\n",
       "        [8],\n",
       "        [8],\n",
       "        [8],\n",
       "        [2],\n",
       "        [5],\n",
       "        [1],\n",
       "        [3],\n",
       "        [7],\n",
       "        [9],\n",
       "        [5],\n",
       "        [1],\n",
       "        [6],\n",
       "        [9],\n",
       "        [7],\n",
       "        [5]],\n",
       "\n",
       "       [[5],\n",
       "        [6],\n",
       "        [3],\n",
       "        [3],\n",
       "        [2],\n",
       "        [3],\n",
       "        [2],\n",
       "        [3],\n",
       "        [1],\n",
       "        [5],\n",
       "        [7],\n",
       "        [1],\n",
       "        [1],\n",
       "        [6],\n",
       "        [8],\n",
       "        [8],\n",
       "        [0],\n",
       "        [0],\n",
       "        [9],\n",
       "        [6],\n",
       "        [6],\n",
       "        [9],\n",
       "        [7],\n",
       "        [1],\n",
       "        [5],\n",
       "        [8],\n",
       "        [6],\n",
       "        [8]],\n",
       "\n",
       "       [[2],\n",
       "        [9],\n",
       "        [4],\n",
       "        [5],\n",
       "        [6],\n",
       "        [8],\n",
       "        [9],\n",
       "        [4],\n",
       "        [5],\n",
       "        [3],\n",
       "        [0],\n",
       "        [5],\n",
       "        [0],\n",
       "        [6],\n",
       "        [4],\n",
       "        [4],\n",
       "        [1],\n",
       "        [7],\n",
       "        [5],\n",
       "        [4],\n",
       "        [1],\n",
       "        [8],\n",
       "        [4],\n",
       "        [2],\n",
       "        [5],\n",
       "        [8],\n",
       "        [5],\n",
       "        [1]],\n",
       "\n",
       "       [[6],\n",
       "        [9],\n",
       "        [1],\n",
       "        [7],\n",
       "        [4],\n",
       "        [3],\n",
       "        [8],\n",
       "        [0],\n",
       "        [3],\n",
       "        [9],\n",
       "        [2],\n",
       "        [0],\n",
       "        [6],\n",
       "        [0],\n",
       "        [0],\n",
       "        [3],\n",
       "        [6],\n",
       "        [7],\n",
       "        [3],\n",
       "        [1],\n",
       "        [1],\n",
       "        [5],\n",
       "        [0],\n",
       "        [3],\n",
       "        [6],\n",
       "        [5],\n",
       "        [0],\n",
       "        [8]],\n",
       "\n",
       "       [[9],\n",
       "        [1],\n",
       "        [9],\n",
       "        [1],\n",
       "        [0],\n",
       "        [1],\n",
       "        [0],\n",
       "        [7],\n",
       "        [2],\n",
       "        [1],\n",
       "        [4],\n",
       "        [4],\n",
       "        [6],\n",
       "        [0],\n",
       "        [3],\n",
       "        [0],\n",
       "        [2],\n",
       "        [5],\n",
       "        [6],\n",
       "        [5],\n",
       "        [4],\n",
       "        [6],\n",
       "        [6],\n",
       "        [6],\n",
       "        [1],\n",
       "        [0],\n",
       "        [1],\n",
       "        [0]],\n",
       "\n",
       "       [[5],\n",
       "        [6],\n",
       "        [4],\n",
       "        [6],\n",
       "        [4],\n",
       "        [3],\n",
       "        [7],\n",
       "        [4],\n",
       "        [6],\n",
       "        [3],\n",
       "        [5],\n",
       "        [6],\n",
       "        [4],\n",
       "        [3],\n",
       "        [3],\n",
       "        [1],\n",
       "        [5],\n",
       "        [0],\n",
       "        [1],\n",
       "        [1],\n",
       "        [1],\n",
       "        [4],\n",
       "        [8],\n",
       "        [5],\n",
       "        [2],\n",
       "        [9],\n",
       "        [1],\n",
       "        [2]],\n",
       "\n",
       "       [[7],\n",
       "        [3],\n",
       "        [5],\n",
       "        [6],\n",
       "        [6],\n",
       "        [4],\n",
       "        [9],\n",
       "        [2],\n",
       "        [4],\n",
       "        [9],\n",
       "        [6],\n",
       "        [5],\n",
       "        [5],\n",
       "        [5],\n",
       "        [5],\n",
       "        [8],\n",
       "        [9],\n",
       "        [4],\n",
       "        [3],\n",
       "        [6],\n",
       "        [0],\n",
       "        [6],\n",
       "        [3],\n",
       "        [3],\n",
       "        [2],\n",
       "        [9],\n",
       "        [9],\n",
       "        [8]],\n",
       "\n",
       "       [[9],\n",
       "        [8],\n",
       "        [7],\n",
       "        [5],\n",
       "        [1],\n",
       "        [3],\n",
       "        [0],\n",
       "        [9],\n",
       "        [9],\n",
       "        [7],\n",
       "        [3],\n",
       "        [8],\n",
       "        [7],\n",
       "        [9],\n",
       "        [6],\n",
       "        [2],\n",
       "        [5],\n",
       "        [5],\n",
       "        [2],\n",
       "        [1],\n",
       "        [6],\n",
       "        [5],\n",
       "        [5],\n",
       "        [3],\n",
       "        [7],\n",
       "        [3],\n",
       "        [5],\n",
       "        [5]],\n",
       "\n",
       "       [[3],\n",
       "        [6],\n",
       "        [9],\n",
       "        [7],\n",
       "        [2],\n",
       "        [4],\n",
       "        [4],\n",
       "        [8],\n",
       "        [9],\n",
       "        [0],\n",
       "        [7],\n",
       "        [9],\n",
       "        [7],\n",
       "        [9],\n",
       "        [1],\n",
       "        [6],\n",
       "        [2],\n",
       "        [0],\n",
       "        [8],\n",
       "        [6],\n",
       "        [0],\n",
       "        [0],\n",
       "        [5],\n",
       "        [1],\n",
       "        [6],\n",
       "        [9],\n",
       "        [6],\n",
       "        [5]],\n",
       "\n",
       "       [[2],\n",
       "        [8],\n",
       "        [9],\n",
       "        [6],\n",
       "        [7],\n",
       "        [0],\n",
       "        [6],\n",
       "        [1],\n",
       "        [8],\n",
       "        [8],\n",
       "        [5],\n",
       "        [8],\n",
       "        [9],\n",
       "        [5],\n",
       "        [2],\n",
       "        [0],\n",
       "        [7],\n",
       "        [3],\n",
       "        [0],\n",
       "        [2],\n",
       "        [7],\n",
       "        [9],\n",
       "        [1],\n",
       "        [5],\n",
       "        [1],\n",
       "        [9],\n",
       "        [0],\n",
       "        [9]],\n",
       "\n",
       "       [[2],\n",
       "        [5],\n",
       "        [3],\n",
       "        [3],\n",
       "        [4],\n",
       "        [1],\n",
       "        [9],\n",
       "        [6],\n",
       "        [6],\n",
       "        [7],\n",
       "        [9],\n",
       "        [2],\n",
       "        [2],\n",
       "        [1],\n",
       "        [4],\n",
       "        [8],\n",
       "        [8],\n",
       "        [2],\n",
       "        [2],\n",
       "        [0],\n",
       "        [5],\n",
       "        [3],\n",
       "        [1],\n",
       "        [9],\n",
       "        [7],\n",
       "        [4],\n",
       "        [4],\n",
       "        [5]],\n",
       "\n",
       "       [[3],\n",
       "        [9],\n",
       "        [2],\n",
       "        [4],\n",
       "        [0],\n",
       "        [0],\n",
       "        [4],\n",
       "        [4],\n",
       "        [6],\n",
       "        [7],\n",
       "        [5],\n",
       "        [5],\n",
       "        [2],\n",
       "        [4],\n",
       "        [7],\n",
       "        [6],\n",
       "        [3],\n",
       "        [9],\n",
       "        [8],\n",
       "        [3],\n",
       "        [3],\n",
       "        [7],\n",
       "        [8],\n",
       "        [9],\n",
       "        [6],\n",
       "        [3],\n",
       "        [3],\n",
       "        [3]],\n",
       "\n",
       "       [[1],\n",
       "        [2],\n",
       "        [7],\n",
       "        [6],\n",
       "        [3],\n",
       "        [2],\n",
       "        [6],\n",
       "        [8],\n",
       "        [9],\n",
       "        [9],\n",
       "        [9],\n",
       "        [7],\n",
       "        [7],\n",
       "        [0],\n",
       "        [0],\n",
       "        [8],\n",
       "        [9],\n",
       "        [8],\n",
       "        [4],\n",
       "        [4],\n",
       "        [6],\n",
       "        [7],\n",
       "        [9],\n",
       "        [9],\n",
       "        [3],\n",
       "        [3],\n",
       "        [2],\n",
       "        [4]],\n",
       "\n",
       "       [[1],\n",
       "        [7],\n",
       "        [7],\n",
       "        [6],\n",
       "        [2],\n",
       "        [6],\n",
       "        [0],\n",
       "        [8],\n",
       "        [5],\n",
       "        [9],\n",
       "        [7],\n",
       "        [7],\n",
       "        [4],\n",
       "        [5],\n",
       "        [7],\n",
       "        [2],\n",
       "        [5],\n",
       "        [1],\n",
       "        [6],\n",
       "        [1],\n",
       "        [1],\n",
       "        [8],\n",
       "        [7],\n",
       "        [0],\n",
       "        [5],\n",
       "        [3],\n",
       "        [9],\n",
       "        [6]],\n",
       "\n",
       "       [[5],\n",
       "        [3],\n",
       "        [4],\n",
       "        [7],\n",
       "        [7],\n",
       "        [8],\n",
       "        [2],\n",
       "        [3],\n",
       "        [2],\n",
       "        [4],\n",
       "        [8],\n",
       "        [0],\n",
       "        [3],\n",
       "        [2],\n",
       "        [3],\n",
       "        [1],\n",
       "        [2],\n",
       "        [7],\n",
       "        [4],\n",
       "        [7],\n",
       "        [0],\n",
       "        [2],\n",
       "        [5],\n",
       "        [8],\n",
       "        [3],\n",
       "        [2],\n",
       "        [2],\n",
       "        [8]],\n",
       "\n",
       "       [[9],\n",
       "        [7],\n",
       "        [2],\n",
       "        [7],\n",
       "        [4],\n",
       "        [3],\n",
       "        [2],\n",
       "        [9],\n",
       "        [3],\n",
       "        [1],\n",
       "        [5],\n",
       "        [9],\n",
       "        [4],\n",
       "        [5],\n",
       "        [0],\n",
       "        [3],\n",
       "        [2],\n",
       "        [9],\n",
       "        [9],\n",
       "        [4],\n",
       "        [8],\n",
       "        [4],\n",
       "        [4],\n",
       "        [1],\n",
       "        [9],\n",
       "        [2],\n",
       "        [2],\n",
       "        [5]],\n",
       "\n",
       "       [[5],\n",
       "        [6],\n",
       "        [8],\n",
       "        [1],\n",
       "        [2],\n",
       "        [5],\n",
       "        [2],\n",
       "        [2],\n",
       "        [4],\n",
       "        [9],\n",
       "        [3],\n",
       "        [3],\n",
       "        [6],\n",
       "        [5],\n",
       "        [3],\n",
       "        [7],\n",
       "        [7],\n",
       "        [8],\n",
       "        [4],\n",
       "        [7],\n",
       "        [2],\n",
       "        [0],\n",
       "        [8],\n",
       "        [9],\n",
       "        [2],\n",
       "        [4],\n",
       "        [9],\n",
       "        [9]],\n",
       "\n",
       "       [[1],\n",
       "        [8],\n",
       "        [1],\n",
       "        [3],\n",
       "        [0],\n",
       "        [0],\n",
       "        [3],\n",
       "        [3],\n",
       "        [0],\n",
       "        [9],\n",
       "        [7],\n",
       "        [4],\n",
       "        [1],\n",
       "        [2],\n",
       "        [6],\n",
       "        [0],\n",
       "        [8],\n",
       "        [7],\n",
       "        [5],\n",
       "        [2],\n",
       "        [7],\n",
       "        [1],\n",
       "        [1],\n",
       "        [7],\n",
       "        [1],\n",
       "        [8],\n",
       "        [6],\n",
       "        [6]],\n",
       "\n",
       "       [[2],\n",
       "        [1],\n",
       "        [2],\n",
       "        [0],\n",
       "        [2],\n",
       "        [8],\n",
       "        [4],\n",
       "        [8],\n",
       "        [9],\n",
       "        [7],\n",
       "        [2],\n",
       "        [5],\n",
       "        [1],\n",
       "        [7],\n",
       "        [3],\n",
       "        [5],\n",
       "        [5],\n",
       "        [3],\n",
       "        [7],\n",
       "        [3],\n",
       "        [6],\n",
       "        [2],\n",
       "        [1],\n",
       "        [0],\n",
       "        [0],\n",
       "        [4],\n",
       "        [8],\n",
       "        [2]],\n",
       "\n",
       "       [[8],\n",
       "        [3],\n",
       "        [3],\n",
       "        [8],\n",
       "        [2],\n",
       "        [1],\n",
       "        [3],\n",
       "        [4],\n",
       "        [5],\n",
       "        [2],\n",
       "        [5],\n",
       "        [6],\n",
       "        [1],\n",
       "        [1],\n",
       "        [8],\n",
       "        [8],\n",
       "        [2],\n",
       "        [0],\n",
       "        [2],\n",
       "        [8],\n",
       "        [0],\n",
       "        [0],\n",
       "        [8],\n",
       "        [0],\n",
       "        [1],\n",
       "        [2],\n",
       "        [9],\n",
       "        [3]],\n",
       "\n",
       "       [[8],\n",
       "        [0],\n",
       "        [6],\n",
       "        [8],\n",
       "        [9],\n",
       "        [1],\n",
       "        [0],\n",
       "        [5],\n",
       "        [1],\n",
       "        [6],\n",
       "        [2],\n",
       "        [6],\n",
       "        [2],\n",
       "        [4],\n",
       "        [6],\n",
       "        [6],\n",
       "        [8],\n",
       "        [7],\n",
       "        [6],\n",
       "        [8],\n",
       "        [1],\n",
       "        [7],\n",
       "        [3],\n",
       "        [6],\n",
       "        [5],\n",
       "        [4],\n",
       "        [4],\n",
       "        [9]]], dtype=int32)>"
      ]
     },
     "execution_count": 41,
     "metadata": {},
     "output_type": "execute_result"
    }
   ],
   "source": [
    "x = tf.expand_dims(x,axis=2)\n",
    "x"
   ]
  },
  {
   "cell_type": "code",
   "execution_count": 42,
   "metadata": {},
   "outputs": [
    {
     "data": {
      "text/plain": [
       "TensorShape([1, 28, 28, 1])"
      ]
     },
     "execution_count": 42,
     "metadata": {},
     "output_type": "execute_result"
    }
   ],
   "source": [
    "x = tf.expand_dims(x,axis=0)\n",
    "x.shape"
   ]
  },
  {
   "cell_type": "markdown",
   "metadata": {},
   "source": [
    "需要注意的是， tf.expand_dims 的 axis 为正时，表示在当前维度之前插入一个新维度； 为负时，表示当前维度之后插入一个新的维度。"
   ]
  },
  {
   "cell_type": "markdown",
   "metadata": {},
   "source": [
    "删除维度"
   ]
  },
  {
   "cell_type": "markdown",
   "metadata": {},
   "source": [
    "删除维度只能删除长度为 1 的维度，也不会改变张量的存储。 "
   ]
  },
  {
   "cell_type": "code",
   "execution_count": 43,
   "metadata": {},
   "outputs": [
    {
     "data": {
      "text/plain": [
       "TensorShape([28, 28, 1])"
      ]
     },
     "execution_count": 43,
     "metadata": {},
     "output_type": "execute_result"
    }
   ],
   "source": [
    "x = tf.squeeze(x,axis=0)\n",
    "x.shape"
   ]
  },
  {
   "cell_type": "code",
   "execution_count": 44,
   "metadata": {},
   "outputs": [
    {
     "data": {
      "text/plain": [
       "TensorShape([28, 28])"
      ]
     },
     "execution_count": 44,
     "metadata": {},
     "output_type": "execute_result"
    }
   ],
   "source": [
    "x = tf.squeeze(x,axis=2)\n",
    "x.shape"
   ]
  },
  {
   "cell_type": "markdown",
   "metadata": {},
   "source": [
    "如果不指定维度参数 axis，即 tf.squeeze(x)， 那么他会默认删除所有长度为 1 的维度："
   ]
  },
  {
   "cell_type": "code",
   "execution_count": 46,
   "metadata": {},
   "outputs": [
    {
     "data": {
      "text/plain": [
       "TensorShape([1, 28, 28, 1])"
      ]
     },
     "execution_count": 46,
     "metadata": {},
     "output_type": "execute_result"
    }
   ],
   "source": [
    "x = tf.random.uniform([1,28,28,1],maxval=10,dtype=tf.int32)\n",
    "x.shape"
   ]
  },
  {
   "cell_type": "code",
   "execution_count": 47,
   "metadata": {},
   "outputs": [
    {
     "data": {
      "text/plain": [
       "TensorShape([28, 28])"
      ]
     },
     "execution_count": 47,
     "metadata": {},
     "output_type": "execute_result"
    }
   ],
   "source": [
    "x = tf.squeeze(x)\n",
    "x.shape"
   ]
  },
  {
   "cell_type": "markdown",
   "metadata": {},
   "source": [
    "交换维度"
   ]
  },
  {
   "cell_type": "code",
   "execution_count": null,
   "metadata": {},
   "outputs": [],
   "source": []
  }
 ],
 "metadata": {
  "kernelspec": {
   "display_name": "Python 3",
   "language": "python",
   "name": "python3"
  },
  "language_info": {
   "codemirror_mode": {
    "name": "ipython",
    "version": 3
   },
   "file_extension": ".py",
   "mimetype": "text/x-python",
   "name": "python",
   "nbconvert_exporter": "python",
   "pygments_lexer": "ipython3",
   "version": "3.6.9"
  }
 },
 "nbformat": 4,
 "nbformat_minor": 2
}
